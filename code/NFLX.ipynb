{
 "cells": [
  {
   "cell_type": "markdown",
   "metadata": {
    "colab_type": "text",
    "id": "MMntBbyvq3d-"
   },
   "source": [
    "# Stock Forecast and Quantitative Investment Analysis--Netflix"
   ]
  },
  {
   "cell_type": "markdown",
   "metadata": {},
   "source": [
    "##### VVVDDPP Group Project for BUDT758B\n",
    "##### Hui He, Kelsey Shi, Xiaoya Wang, Diana Wang, Qing Yan, Zhuofan Zhang\n",
    "##### May 2020"
   ]
  },
  {
   "cell_type": "markdown",
   "metadata": {},
   "source": [
    "Our group conducts numerical analysis on the leading enterprises of both technology Industry, entertainment industry and pharmaceutical industry. To be more specific, we analyze the stock behavior of Apple, Netflix and Pfizer. Numerical analysis based on historical stock data is also known as technical analysis. Technical analysis can predict the trend of prices and can further decide on investment strategyby by studying the past financial market information. It assumes that history will repeat itself. As long as we mine historical data for patterns that repeat themselves, we can use this pattern to design profitable strategies. Therefore, we conduct stock forecast by technical analysis and try to give some suggestions on quantitative investment."
   ]
  },
  {
   "cell_type": "markdown",
   "metadata": {},
   "source": [
    "## 1. Data Acquisiton and Visualization"
   ]
  },
  {
   "cell_type": "markdown",
   "metadata": {},
   "source": [
    "* There are a lot of public interfaces and softwares on the web to get stock data, such as AlphaVantage, Google Finance in Google Sheets, IEX Cloud and so on. Here we use Yahoo Finance to get the stock data we need. Yahoo Finance provides access to many years of daily OHLC price data. And it’s free and reliable. Here we extract 10 years' stock data to conduct the analysis."
   ]
  },
  {
   "cell_type": "code",
   "execution_count": 210,
   "metadata": {
    "colab": {},
    "colab_type": "code",
    "id": "-TIGLFC8q3d_"
   },
   "outputs": [],
   "source": [
    "#!pip install yfinance\n",
    "#!pip install --upgrade mplfinance\n",
    "#!pip install TA-Lib\n",
    "#!pip install yahoofinancials\n",
    "#!pip install yfinance --upgrade --no-cache-dir\n",
    "#!pip install fix-yahoo-finance\n",
    "#!pip install iexfinance\n",
    "#!pip install bs4\n",
    "#!pip install selenium\n",
    "#!pip install chromedriver_binary"
   ]
  },
  {
   "cell_type": "code",
   "execution_count": 1,
   "metadata": {
    "colab": {
     "base_uri": "https://localhost:8080/",
     "height": 368
    },
    "colab_type": "code",
    "id": "-h-UAdR2q3eD",
    "outputId": "bee4a741-701c-46a5-ef10-e0e4df3f2a7d"
   },
   "outputs": [],
   "source": [
    "import pandas as pd\n",
    "import numpy as np\n",
    "import matplotlib.pyplot as plt\n",
    "import talib\n",
    "import yfinance as yf\n",
    "import mplfinance as mpf\n",
    "from bs4 import BeautifulSoup\n",
    "import requests\n",
    "import re\n",
    "from selenium import webdriver\n",
    "import chromedriver_binary\n",
    "import warnings \n",
    "warnings.filterwarnings('ignore')\n",
    "import datetime as dt\n",
    "import math"
   ]
  },
  {
   "cell_type": "markdown",
   "metadata": {
    "colab_type": "text",
    "id": "S24tN4Hvq3eG"
   },
   "source": [
    "### 1.1 Data Extraction:\n",
    "* scrapping financial data from yahoo finance\n",
    "* download stock market price data from yahoo finance API"
   ]
  },
  {
   "cell_type": "code",
   "execution_count": 2,
   "metadata": {
    "colab": {},
    "colab_type": "code",
    "id": "NvWaYhlcq3eK",
    "outputId": "41a98656-1293-4d1e-f824-b47a322283cc"
   },
   "outputs": [
    {
     "name": "stdout",
     "output_type": "stream",
     "text": [
      "[*********************100%***********************]  1 of 1 completed\n"
     ]
    }
   ],
   "source": [
    "#download stock data from yahoo finance\n",
    "stock_df=yf.download(\"NFLX\",start=\"2010-01-01\",end=\"2019-12-31\")"
   ]
  },
  {
   "cell_type": "markdown",
   "metadata": {
    "colab_type": "text",
    "id": "AcGCNUYLq3eO"
   },
   "source": [
    "### 1.2 Data Preparation and Visualization\n",
    "* Plot `Candlestick Chart` to see the trend\n",
    "* Capture and Visualize `Candlestick Chart` Features: `Morning Star`,`Evening Star`,`Dark Cloud`\n",
    "* Calculate Technical Indicators: `Momentum`,`SMA(Simple Moving Average)`,`EMA(Exponential Moving Average)`,`Bollinger Bands`\n",
    "* Create a list for newly created features"
   ]
  },
  {
   "cell_type": "markdown",
   "metadata": {
    "colab_type": "text",
    "id": "yOKe4vA9q3eO"
   },
   "source": [
    "### 1.2.1 Candlestick Chart"
   ]
  },
  {
   "cell_type": "markdown",
   "metadata": {
    "colab_type": "text",
    "id": "wKab03Hyr2cl"
   },
   "source": [
    "#### Only take the data from 12/2019 to plot and observe the trend."
   ]
  },
  {
   "cell_type": "code",
   "execution_count": 3,
   "metadata": {
    "colab": {},
    "colab_type": "code",
    "id": "JgPyg9dZq3eP"
   },
   "outputs": [],
   "source": [
    "plotdata=stock_df[['Open','High','Low','Close','Volume']]\n",
    "plotdata=plotdata.iloc[plotdata.index >= '20191201', :]\n"
   ]
  },
  {
   "cell_type": "code",
   "execution_count": 4,
   "metadata": {
    "colab": {},
    "colab_type": "code",
    "id": "juqUW8YHq3eR",
    "outputId": "85ade35c-1010-43e9-95dc-a26b21cd0e71"
   },
   "outputs": [
    {
     "data": {
      "image/png": "[encoded data removed]",
      "text/plain": [
       "<Figure size 864x648 with 4 Axes>"
      ]
     },
     "metadata": {
      "needs_background": "light"
     },
     "output_type": "display_data"
    }
   ],
   "source": [
    "#Candlestick chart\n",
    "mc = mpf.make_marketcolors(up='g',down='r',\n",
    "                           edge='inherit',\n",
    "                           wick='in',\n",
    "                           volume='i')\n",
    "s=mpf.make_mpf_style(marketcolors=mc)\n",
    "mpf.plot(plotdata,type='candle',volume=True,style=s,figratio=(12,9))"
   ]
  },
  {
   "cell_type": "markdown",
   "metadata": {
    "colab_type": "text",
    "id": "_8wLZjokq3ee"
   },
   "source": [
    "#### Capture the Feature of the Candlestick Chart\n",
    "* Morning Star: Signal for price going up when it outputs 100\n",
    "* Evening Star: Signal for price going down when it outputs -100\n",
    "* Dark Cloud Cover: Signal for price going down when it outputs -100"
   ]
  },
  {
   "cell_type": "markdown",
   "metadata": {
    "colab_type": "text",
    "id": "QFHJJhVZq3ef"
   },
   "source": [
    "#### 1. Morning Star"
   ]
  },
  {
   "cell_type": "code",
   "execution_count": 5,
   "metadata": {
    "colab": {},
    "colab_type": "code",
    "id": "eAsQ3upRq3ef",
    "outputId": "42edc05b-260c-49d9-a18d-8c7a85554426"
   },
   "outputs": [
    {
     "name": "stdout",
     "output_type": "stream",
     "text": [
      "Morning Star\n",
      "Date\n",
      "2018-08-20    100\n",
      "2018-10-09    100\n",
      "2019-03-11    100\n",
      "2019-04-16    100\n",
      "dtype: int32\n"
     ]
    },
    {
     "data": {
      "image/png": "[encoded data removed]",
      "text/plain": [
       "<Figure size 864x648 with 2 Axes>"
      ]
     },
     "metadata": {
      "needs_background": "light"
     },
     "output_type": "display_data"
    }
   ],
   "source": [
    "#Morning Star for price for recent 2 years \n",
    "df_sample=stock_df.iloc[stock_df.index>='20180101',:]\n",
    "fig,(ax1,ax2)=plt.subplots(2,1,sharex=False,figsize=(12,9))\n",
    "\n",
    "from mplfinance.original_flavor import candlestick2_ochl\n",
    "candlestick2_ochl(ax1, df_sample['Open'], df_sample['Close'], df_sample['High'], df_sample['Low'],\n",
    "                  width=0.5, colorup='g', colordown='r',\n",
    "                  alpha=0.6)\n",
    "ax1.grid(True)\n",
    "\n",
    "result = talib.CDLMORNINGSTAR(df_sample['Open'], df_sample['High'], df_sample['Low'], df_sample['Close'], penetration=0)\n",
    "result.plot(ax=ax2)\n",
    "\n",
    "ax2.grid(True)\n",
    "plt.subplots_adjust(hspace=0) \n",
    "#return Morning Star Points\n",
    "result_positive = result.loc[result == 100]\n",
    "print('Morning Star')\n",
    "print(result_positive)\n"
   ]
  },
  {
   "cell_type": "markdown",
   "metadata": {
    "colab_type": "text",
    "id": "PF0ReyMnq3ei"
   },
   "source": [
    "#### 2. Evening Star"
   ]
  },
  {
   "cell_type": "code",
   "execution_count": 6,
   "metadata": {
    "colab": {},
    "colab_type": "code",
    "id": "4ZGQY0oOq3ej",
    "outputId": "51904dc7-01cf-4a2b-a53e-c18d0469d79f"
   },
   "outputs": [
    {
     "name": "stdout",
     "output_type": "stream",
     "text": [
      "Evening Star\n",
      "Date\n",
      "2017-03-21   -100\n",
      "dtype: int32\n"
     ]
    },
    {
     "data": {
      "image/png": "[encoded data removed]",
      "text/plain": [
       "<Figure size 864x648 with 2 Axes>"
      ]
     },
     "metadata": {
      "needs_background": "light"
     },
     "output_type": "display_data"
    }
   ],
   "source": [
    "#Evening Star for recent 2 years\n",
    "\n",
    "df2017 = stock_df.iloc[stock_df.index < '20180101', :]\n",
    "df2017 = df2017.iloc[df2017.index >= '20170101', :]\n",
    "\n",
    "fig, (ax, ax2) = plt.subplots(2, 1, sharex=False, figsize=(12, 9))\n",
    "\n",
    "from mplfinance.original_flavor import candlestick2_ochl\n",
    "candlestick2_ochl(ax, df2017['Open'], df2017['Close'], df2017['High'], df2017['Low'],\n",
    "                  width=0.5, colorup='g', colordown='r',\n",
    "                  alpha=0.6)\n",
    "ax.grid(True)\n",
    "\n",
    "result = talib.CDLEVENINGSTAR(df2017['Open'], df2017['High'], df2017['Low'], df2017['Close'], penetration=0)\n",
    "result.plot(ax=ax2)\n",
    "\n",
    "ax2.grid(True)\n",
    "plt.subplots_adjust(hspace=0)\n",
    "result_negative = result.loc[result == -100]\n",
    "print('Evening Star')\n",
    "print(result_negative)"
   ]
  },
  {
   "cell_type": "markdown",
   "metadata": {
    "colab_type": "text",
    "id": "MifDPR7Zq3en"
   },
   "source": [
    "#### 3. Dark Cloud Cover"
   ]
  },
  {
   "cell_type": "code",
   "execution_count": 7,
   "metadata": {
    "colab": {},
    "colab_type": "code",
    "id": "pzlEunoLq3en",
    "outputId": "1f8ff5a7-9dbe-4d8a-a2c2-52feb37701f5"
   },
   "outputs": [
    {
     "name": "stdout",
     "output_type": "stream",
     "text": [
      "Dark Cloud\n",
      "Date\n",
      "2018-05-22   -100\n",
      "2018-07-03   -100\n",
      "2018-08-03   -100\n",
      "2018-08-23   -100\n",
      "2018-09-13   -100\n",
      "2018-09-19   -100\n",
      "dtype: int32\n"
     ]
    },
    {
     "data": {
      "image/png": "[encoded data removed]",
      "text/plain": [
       "<Figure size 864x648 with 2 Axes>"
      ]
     },
     "metadata": {
      "needs_background": "light"
     },
     "output_type": "display_data"
    }
   ],
   "source": [
    "#Dark Cloud Cover for recent two years\n",
    "df2018 = stock_df.iloc[stock_df.index >= '20180101', :]\n",
    "df2018 = df2018.iloc[df2018.index < '20190101', :]\n",
    "\n",
    "fig, (ax, ax2) = plt.subplots(2, 1, sharex=False, figsize=(12, 9))\n",
    "\n",
    "from mplfinance.original_flavor import candlestick2_ochl\n",
    "candlestick2_ochl(ax, df2018['Open'], df2018['Close'], df2018['High'], df2018['Low'],\n",
    "                  width=0.5, colorup='g', colordown='r',\n",
    "                  alpha=0.6)\n",
    "ax.grid(True)  \n",
    "\n",
    "result = talib.CDLDARKCLOUDCOVER(df2018['Open'], df2018['High'], df2018['Low'], df2018['Close'], penetration=0)\n",
    "result.plot(ax=ax2)\n",
    "\n",
    "ax2.grid(True)\n",
    "plt.subplots_adjust(hspace=0)  \n",
    "result_negative = result.loc[result == -100]\n",
    "print('Dark Cloud')\n",
    "print(result_negative)"
   ]
  },
  {
   "cell_type": "code",
   "execution_count": 8,
   "metadata": {
    "colab": {},
    "colab_type": "code",
    "id": "4scrjSmcq3eq"
   },
   "outputs": [],
   "source": [
    "#store all the technical indicators in a list\n",
    "ta_features=['Momentum','SMA','EMA','Upperband','Middleband','Lowerband']"
   ]
  },
  {
   "cell_type": "markdown",
   "metadata": {
    "colab_type": "text",
    "id": "-HmqWSKuq3eV"
   },
   "source": [
    "### 1.2.2 Calculate and Visualize the Technical Indicators"
   ]
  },
  {
   "cell_type": "markdown",
   "metadata": {},
   "source": [
    "* Momentum: the difference between closing prices in n days.\n",
    "* Simple Moving Average: an arithmetic moving average calculated by adding recent prices and then dividing that by the number of time periods in the calculation average.\n",
    "* Exponential Moving Average: an arithmetic moving average that places a greater weight and significance on the most recent data points. \n",
    "* Bollinger Bands:  a technical analysis tool defined by a set of lines plotted two standard deviations (positively and negatively) away from a simple moving average (SMA) of the security's price, but can be adjusted to user preferences. "
   ]
  },
  {
   "cell_type": "code",
   "execution_count": 9,
   "metadata": {
    "colab": {},
    "colab_type": "code",
    "id": "rwzHWYjAq3eW"
   },
   "outputs": [],
   "source": [
    "#Momentum\n",
    "stock_df['Momentum']=talib.MOM(stock_df['Close'],timeperiod=1)\n",
    "#SMA\n",
    "timeperiod=30\n",
    "stock_df['SMA']=talib.SMA(stock_df['Close'],timeperiod=timeperiod)\n",
    "#EMA\n",
    "stock_df['EMA'] = talib.EMA(stock_df['Close'], timeperiod=timeperiod)\n",
    "#Bollinger Bands\n",
    "timeperiod = 5 #set time window as 5\n",
    "nbdevup = 2  #band width up and down both as 2 std\n",
    "nbdevdn = 2 \n",
    "stock_df['Upperband'], stock_df['Middleband'], stock_df['Lowerband'] = talib.BBANDS(stock_df['Close'], timeperiod=timeperiod, nbdevup=nbdevup, nbdevdn=nbdevdn)\n"
   ]
  },
  {
   "cell_type": "code",
   "execution_count": 10,
   "metadata": {
    "colab": {},
    "colab_type": "code",
    "id": "Sdw0TFo_q3eY",
    "outputId": "0fa459b7-67d6-47dd-fce6-04bd082af4b8"
   },
   "outputs": [
    {
     "data": {
      "image/png": "[encoded data removed]",
      "text/plain": [
       "<Figure size 864x432 with 1 Axes>"
      ]
     },
     "metadata": {
      "needs_background": "light"
     },
     "output_type": "display_data"
    }
   ],
   "source": [
    "#plot Bollinger Bands for observation\n",
    "stock_df_sample = stock_df.iloc[stock_df.index >= '20190101', :]\n",
    "\n",
    "fig = plt.figure(figsize=(12, 6))\n",
    "ax = fig.add_subplot(1, 1, 1)\n",
    "stock_df_sample[['Upperband', 'Middleband', 'Lowerband']].plot(ax=ax)\n",
    "ax.grid(True) \n",
    "ax.legend();\n"
   ]
  },
  {
   "cell_type": "code",
   "execution_count": 11,
   "metadata": {
    "colab": {},
    "colab_type": "code",
    "id": "0qNQHnmjq3eb",
    "outputId": "d01f1dc9-e8c3-4f67-d4a4-db0e9b3ceb26"
   },
   "outputs": [
    {
     "data": {
      "image/png": "[encoded data removed]",
      "text/plain": [
       "<Figure size 864x432 with 1 Axes>"
      ]
     },
     "metadata": {
      "needs_background": "light"
     },
     "output_type": "display_data"
    }
   ],
   "source": [
    "#use data for 2019 to observe the difference between 'SMA' and 'EMA'\n",
    "df_sample = stock_df.iloc[stock_df.index >= '20190101', :]\n",
    "\n",
    "fig = plt.figure(figsize=(12, 6))\n",
    "ax = fig.add_subplot(1, 1, 1)\n",
    "df_sample[['Close', 'SMA', 'EMA']].plot(ax=ax)\n",
    "ax.grid(True)\n",
    "ax.legend();"
   ]
  },
  {
   "cell_type": "markdown",
   "metadata": {
    "colab_type": "text",
    "id": "E90eoe0-q3es"
   },
   "source": [
    "### 1.2.3 Calculate Financial Indicators for the Stock"
   ]
  },
  {
   "cell_type": "markdown",
   "metadata": {},
   "source": [
    "* netIncome: Net income, the amount an individual earns after subtracting taxes and other deductions from gross income.\n",
    "* equity: ownership of assets that may have debts or other liabilities attached to them. \n",
    "* ROE: return on equity,  measures how many dollars of profit are generated for each dollar of shareholder’s equity. \n",
    "* pre_close\n",
    "* pct_chg: percent change for eachday's stock price."
   ]
  },
  {
   "cell_type": "code",
   "execution_count": 12,
   "metadata": {
    "colab": {},
    "colab_type": "code",
    "id": "ptO71xFaq3eH"
   },
   "outputs": [],
   "source": [
    "#define a function to scrap financial statement for the stock from yahoo finance\n",
    "def scraper_to_statement(link):\n",
    "    \n",
    "    headers = []\n",
    "    temp_list = []\n",
    "    final = []\n",
    "    index = 0\n",
    "    \n",
    "    #pull data from link\n",
    "    page_response = requests.get(link, timeout=1000)\n",
    "    #structure raw data for parsing\n",
    "    page_content = BeautifulSoup(page_response.content)\n",
    "    #filter for items we want\n",
    "    features = page_content.find_all('div',class_='D(tbr)')\n",
    "    \n",
    "    #create headers\n",
    "    for item in features[0].find_all('div', class_='D(ib)'):\n",
    "        headers.append(item.text)\n",
    "        \n",
    "    #statement contents\n",
    "    while index <= len(features)-1:\n",
    "        #filter for each line of the statement\n",
    "        temp = features[index].find_all('div', class_='D(tbc)')\n",
    "        for line in temp:\n",
    "            #each item adding to a temporary list\n",
    "            temp_list.append(line.text)\n",
    "        #temp_list added to final list\n",
    "        final.append(temp_list)\n",
    "        #clear temp_list\n",
    "        temp_list = []\n",
    "        index+=1\n",
    "    \n",
    "    df = pd.DataFrame(final[1:])\n",
    "    df.columns = headers\n",
    "    \n",
    "    return df"
   ]
  },
  {
   "cell_type": "code",
   "execution_count": 13,
   "metadata": {
    "colab": {},
    "colab_type": "code",
    "id": "97rh3oy6q3et"
   },
   "outputs": [],
   "source": [
    "is_link = 'https://finance.yahoo.com/quote/NFLX/financials?p=NFLX'\n",
    "bs_link = 'https://finance.yahoo.com/quote/NFLX/balance-sheet?p=NFLX'\n",
    "cf_link = 'https://finance.yahoo.com/quote/NFLX/cash-flow?p=NFLX'"
   ]
  },
  {
   "cell_type": "code",
   "execution_count": 14,
   "metadata": {
    "colab": {},
    "colab_type": "code",
    "id": "eRRx0wcBq3ew"
   },
   "outputs": [],
   "source": [
    "income_statement=scraper_to_statement(is_link)\n",
    "balance_sheet=scraper_to_statement(bs_link)\n",
    "cash_flow=scraper_to_statement(cf_link)"
   ]
  },
  {
   "cell_type": "code",
   "execution_count": 15,
   "metadata": {
    "colab": {},
    "colab_type": "code",
    "id": "7Z8tNiAgq3ey",
    "outputId": "8297df5c-98c6-46d4-9aff-3d3285acbdee"
   },
   "outputs": [
    {
     "data": {
      "text/plain": [
       "12/31/2019    1866916.0\n",
       "12/31/2018    1211242.0\n",
       "12/31/2017     558929.0\n",
       "12/31/2016     186678.0\n",
       "Name: 13, dtype: float64"
      ]
     },
     "execution_count": 15,
     "metadata": {},
     "output_type": "execute_result"
    }
   ],
   "source": [
    "#get netIncome data\n",
    "netIncome=income_statement.iloc[13]\n",
    "netIncome=netIncome.drop(['ttm','Breakdown']).str.replace(',','').astype('float')\n",
    "netIncome"
   ]
  },
  {
   "cell_type": "code",
   "execution_count": 16,
   "metadata": {
    "colab": {},
    "colab_type": "code",
    "id": "aZApbnqHq3e1",
    "outputId": "120bf763-94c9-4572-8fb9-2afa16b1b8ad"
   },
   "outputs": [
    {
     "data": {
      "text/plain": [
       "12/31/2019    7582157.0\n",
       "12/31/2018    5238765.0\n",
       "12/31/2017    3581956.0\n",
       "12/31/2016    2679800.0\n",
       "Name: 35, dtype: float64"
      ]
     },
     "execution_count": 16,
     "metadata": {},
     "output_type": "execute_result"
    }
   ],
   "source": [
    "#get equity data\n",
    "equity=balance_sheet.iloc[35].drop('Breakdown').str.replace(',','').astype('float')\n",
    "equity"
   ]
  },
  {
   "cell_type": "code",
   "execution_count": 17,
   "metadata": {
    "colab": {},
    "colab_type": "code",
    "id": "JuQzxZ-Kq3e4",
    "outputId": "689f43ab-9ca1-43de-9e61-07a8f9f84f04"
   },
   "outputs": [
    {
     "data": {
      "text/plain": [
       "12/31/2019    0.246225\n",
       "12/31/2018    0.231208\n",
       "12/31/2017    0.156040\n",
       "12/31/2016    0.069661\n",
       "dtype: float64"
      ]
     },
     "execution_count": 17,
     "metadata": {},
     "output_type": "execute_result"
    }
   ],
   "source": [
    "#calculate ROE(Return of Equity)\n",
    "ROE=netIncome/equity\n",
    "ROE"
   ]
  },
  {
   "cell_type": "code",
   "execution_count": 18,
   "metadata": {
    "colab": {},
    "colab_type": "code",
    "id": "NR_QPb-Iq3e6"
   },
   "outputs": [],
   "source": [
    "#create a column for the year of the stock price \n",
    "stock_df.reset_index(inplace=True)\n",
    "stock_df['year']=stock_df['Date'].astype('str').apply(lambda x:x[:4]).tolist()\n"
   ]
  },
  {
   "cell_type": "code",
   "execution_count": 19,
   "metadata": {
    "colab": {},
    "colab_type": "code",
    "id": "DMdjJHKcq3e8"
   },
   "outputs": [],
   "source": [
    "#append ROE data for each observation\n",
    "stock_df['ROE']='NaN'\n",
    "stock_df['ROE'][(stock_df['year']>='2010')&(stock_df['year']<'2017')]=ROE.iloc[3]\n",
    "stock_df['ROE'][stock_df['year']=='2017']=ROE.iloc[2]\n",
    "stock_df['ROE'][stock_df['year']=='2018']=ROE.iloc[1]\n",
    "stock_df['ROE'][stock_df['year']>'2019']=ROE.iloc[0]"
   ]
  },
  {
   "cell_type": "code",
   "execution_count": 20,
   "metadata": {
    "colab": {},
    "colab_type": "code",
    "id": "BnkVWBoDq3e-",
    "outputId": "e203728c-d56b-48f9-9297-740e7c281371"
   },
   "outputs": [
    {
     "name": "stdout",
     "output_type": "stream",
     "text": [
      "[*********************100%***********************]  1 of 1 completed\n"
     ]
    }
   ],
   "source": [
    "#create the 'pre_close' data\n",
    "start=yf.download(\"NFLX\",start=\"2009-12-25\",end=\"2009-12-31\")['Close'][2]\n",
    "stock_df['pre_close']='NaN'\n",
    "stock_df['pre_close'].iloc[0]=start\n"
   ]
  },
  {
   "cell_type": "code",
   "execution_count": 21,
   "metadata": {
    "colab": {},
    "colab_type": "code",
    "id": "8Fiwbd3hq3fC"
   },
   "outputs": [],
   "source": [
    "for i in range(1,stock_df.shape[0]):\n",
    "    stock_df['pre_close'].iloc[i]=stock_df['Close'].iloc[i-1]"
   ]
  },
  {
   "cell_type": "code",
   "execution_count": 22,
   "metadata": {
    "colab": {},
    "colab_type": "code",
    "id": "Uvar7rQnq3fE"
   },
   "outputs": [],
   "source": [
    "#calculate percent change for eachday's stock price\n",
    "stock_df['pct_chg']=(stock_df['Close']-stock_df['pre_close'])/stock_df['pre_close']"
   ]
  },
  {
   "cell_type": "markdown",
   "metadata": {
    "colab_type": "text",
    "id": "jz8gmypmq3fH"
   },
   "source": [
    "## 2. Data Preprocessing"
   ]
  },
  {
   "cell_type": "markdown",
   "metadata": {
    "colab_type": "text",
    "id": "nJURLGLpq3fI"
   },
   "source": [
    "### 2.1 Impute Null Values"
   ]
  },
  {
   "cell_type": "code",
   "execution_count": 23,
   "metadata": {
    "colab": {},
    "colab_type": "code",
    "id": "foDbfSaZq3fI",
    "outputId": "c3eebfbe-fb71-4869-c11e-743e839267ba"
   },
   "outputs": [
    {
     "data": {
      "text/plain": [
       "(2486, 17)"
      ]
     },
     "execution_count": 23,
     "metadata": {},
     "output_type": "execute_result"
    }
   ],
   "source": [
    "#impute the null data\n",
    "stock_df=stock_df.fillna(method='ffill')\n",
    "stock_df.dropna(inplace=True)\n",
    "stock_df.shape"
   ]
  },
  {
   "cell_type": "markdown",
   "metadata": {
    "colab_type": "text",
    "id": "8u-5asFWq3fK"
   },
   "source": [
    "## 2.2 Standard Scale data"
   ]
  },
  {
   "cell_type": "code",
   "execution_count": 24,
   "metadata": {
    "colab": {},
    "colab_type": "code",
    "id": "RCXAwQ4yq3fL"
   },
   "outputs": [],
   "source": [
    "from sklearn.preprocessing import StandardScaler\n",
    "from sklearn.preprocessing import MinMaxScaler\n",
    "mom_scaled = MinMaxScaler().fit_transform(stock_df[['Momentum']])\n",
    "mom_scaled = StandardScaler().fit_transform(stock_df[['Momentum']])"
   ]
  },
  {
   "cell_type": "markdown",
   "metadata": {
    "colab_type": "text",
    "id": "TJbefwj-q3fN"
   },
   "source": [
    "## 2.3 Feature Transformation"
   ]
  },
  {
   "cell_type": "markdown",
   "metadata": {},
   "source": [
    "* New feature are created by appling nonlinear function to old features. Here we use PolynomialFeatures in sklearn.preprocessing to create a new feature: log(1+x) on momentum."
   ]
  },
  {
   "cell_type": "code",
   "execution_count": 25,
   "metadata": {
    "colab": {},
    "colab_type": "code",
    "id": "pAub2VI4q3fN"
   },
   "outputs": [],
   "source": [
    "from sklearn.preprocessing import PolynomialFeatures"
   ]
  },
  {
   "cell_type": "code",
   "execution_count": 26,
   "metadata": {
    "colab": {},
    "colab_type": "code",
    "id": "rZPpe685q3fP"
   },
   "outputs": [],
   "source": [
    "stock_df['Mom2'] = PolynomialFeatures().fit_transform(stock_df[['Momentum']])[:,2] \n"
   ]
  },
  {
   "cell_type": "code",
   "execution_count": 27,
   "metadata": {
    "colab": {},
    "colab_type": "code",
    "id": "QAP28pn-q3fS",
    "outputId": "01e7c386-2201-4982-e45f-db75c28ff53f"
   },
   "outputs": [
    {
     "name": "stdout",
     "output_type": "stream",
     "text": [
      "    Momentum   mom_log\n",
      "29  0.240001  0.215112\n",
      "30 -0.050000 -0.051293\n",
      "31  0.227142  0.204688\n",
      "32  0.078571  0.075637\n",
      "33 -0.197143 -0.219578\n"
     ]
    }
   ],
   "source": [
    "from numpy import log1p\n",
    "from sklearn.preprocessing import FunctionTransformer\n",
    "stock_df['mom_log'] = FunctionTransformer(log1p).fit_transform(stock_df[['Momentum']])\n",
    "print(stock_df[['Momentum', 'mom_log']].head())"
   ]
  },
  {
   "cell_type": "markdown",
   "metadata": {
    "colab_type": "text",
    "id": "PFfwaEWEq3fg"
   },
   "source": [
    "## 3. Function to Use"
   ]
  },
  {
   "cell_type": "markdown",
   "metadata": {
    "colab_type": "text",
    "id": "srKkpybJq3fg"
   },
   "source": [
    "### Funtion 1: up or down function\n",
    "* We transfer the predictions into going up or down and calculate the predictions' accuracy"
   ]
  },
  {
   "cell_type": "code",
   "execution_count": 28,
   "metadata": {
    "colab": {},
    "colab_type": "code",
    "id": "n2_Jdl-vq3fh"
   },
   "outputs": [],
   "source": [
    "#define a function to return up and down indicators\n",
    "def up_or_down(ser):\n",
    "    y_class=[]\n",
    "    for value in ser:\n",
    "        if value>0:\n",
    "            y_class.append(1)\n",
    "        else:\n",
    "            y_class.append(0)\n",
    "    return y_class"
   ]
  },
  {
   "cell_type": "code",
   "execution_count": 29,
   "metadata": {
    "colab": {},
    "colab_type": "code",
    "id": "JtljkYTAq3fj"
   },
   "outputs": [],
   "source": [
    "# define a function to return the accuracy for up or down classification\n",
    "def up_or_down_acc(pred,true_value):\n",
    "    total_right=0\n",
    "    for i in range(0,len(pred)):\n",
    "        if pred[i]==true_value[i]:\n",
    "            total_right+=1\n",
    "    return(total_right/len(pred))\n",
    "        "
   ]
  },
  {
   "cell_type": "markdown",
   "metadata": {
    "colab_type": "text",
    "id": "fcQCVTyaq3fl"
   },
   "source": [
    "### Function 2: loss function \n",
    "\n",
    "* we use RMSE as our loss function to evaluate the accuracy of our model's log return predictions"
   ]
  },
  {
   "cell_type": "code",
   "execution_count": 30,
   "metadata": {
    "colab": {},
    "colab_type": "code",
    "id": "oTa4_8JJq3fl"
   },
   "outputs": [],
   "source": [
    "def get_rmse(y_true, y_pred):\n",
    "    '''Compute root mean squared error (RMSE)'''\n",
    "    # convert the variable from numpy \n",
    "    y_true, y_pred = np.asarray(y_true), np.asarray(y_pred)\n",
    "    return np.sqrt(((y_true - y_pred) ** 2).mean())"
   ]
  },
  {
   "cell_type": "code",
   "execution_count": 31,
   "metadata": {
    "colab": {},
    "colab_type": "code",
    "id": "FHi6zRQMq3fo"
   },
   "outputs": [],
   "source": [
    "#we define a function that rolling the input data\n",
    "def get_preds_rolling(df, target_col, N, pred_func, offset):\n",
    "    # apply roling to a dataframe, eg.train_validation\n",
    "    # target_col is our target variable column， here is log return\n",
    "    # n is the time window, using t-1, t-2 ......\n",
    "    pred_list = df[target_col].rolling(window = N).apply(pred_func)\n",
    "    # add a NAN at the beginning of the list\n",
    "    pred_list = np.concatenate((np.array([np.nan]), np.array(pred_list[:-1])))\n",
    "    # return the offset of our input datafrane\n",
    "    return pred_list[offset:]"
   ]
  },
  {
   "cell_type": "markdown",
   "metadata": {},
   "source": [
    "### Function 3: Split data function"
   ]
  },
  {
   "cell_type": "markdown",
   "metadata": {
    "colab_type": "text",
    "id": "Cz-5Cz00q3fr"
   },
   "source": [
    "* We split data into train,validation and test set and calculate log(return)."
   ]
  },
  {
   "cell_type": "code",
   "execution_count": 32,
   "metadata": {
    "colab": {},
    "colab_type": "code",
    "id": "gH1iKhsRq3fr"
   },
   "outputs": [],
   "source": [
    "def split_data(df):\n",
    "    df['Date']=df['Date'].astype('str').apply(lambda x:dt.datetime.strptime(x,'%Y-%m-%d'))\n",
    "    df = df.set_index('Date', drop=False)\n",
    "    df = df.sort_index()\n",
    "    # count log return\n",
    "    df['Close1'] = df['Close'].shift(-1)\n",
    "    df['log_ret'] = np.log(df['Close1'] / df['Close']) \n",
    "    df = df.dropna()\n",
    "    train = df['2010-01-01':'2017-12-31'] # use 2010 to 2017 as training data\n",
    "    validation = df['2018-01-01': '2018-12-31'] # use 2018 as validation data\n",
    "    train_validation = df['2010-01-01':'2018-12-31'] # train set and validation st\n",
    "    test = df['2019-01-01': '2019-12-31'] # test set\n",
    "    return df, train, validation, train_validation, test\n",
    "\n"
   ]
  },
  {
   "cell_type": "markdown",
   "metadata": {
    "colab_type": "text",
    "id": "8bbEgkm7q3ft"
   },
   "source": [
    "## 4. Predict Log Return and Classify Stock Price's Trend based on Log Return"
   ]
  },
  {
   "cell_type": "markdown",
   "metadata": {},
   "source": [
    "* Prediction on logarithm of return is more meaningful. \n",
    "\n",
    "* Benefits of log return: \n",
    "* Time additive: Note that the two-period log return is identical to the sum of the each period’s log return. To get the n-period log return, we can simply add the consecutive single period log returns. Conversely, notice the simple return is not time additive.\n",
    "* Mathematically convenient: logs and exponents are easier to manipulate with calculus. Theoretical models tend to assume, unrealistically but conveniently, continuously compounded rates of return. For example, if LogReturn = LN(P1/P0), then EXP[LogReturn] = P1/P0. If f(y) = EXP[LogReturn] then the first derivative, f’(y) is quite wonderfully also EXP[LogReturn]. In short, d/dx EXP[x] = EXP[x].\n",
    "* Approximately good: for short periods (e.g., daily), the log return approximates the discrete return anyway"
   ]
  },
  {
   "cell_type": "markdown",
   "metadata": {
    "colab_type": "text",
    "id": "SNKRBvf7q3fu"
   },
   "source": [
    "### 4.1 Linear Model\n",
    "\n",
    "* Target Variable: log(Return)"
   ]
  },
  {
   "cell_type": "code",
   "execution_count": 33,
   "metadata": {
    "colab": {},
    "colab_type": "code",
    "id": "YUSln8GXq3fu"
   },
   "outputs": [],
   "source": [
    "#! pip install arch\n",
    "from statsmodels.stats.diagnostic import unitroot_adf\n",
    "from arch.unitroot import ADF\n"
   ]
  },
  {
   "cell_type": "code",
   "execution_count": 34,
   "metadata": {
    "colab": {},
    "colab_type": "code",
    "id": "74efpESmq3fw",
    "outputId": "40ae046b-fc6a-4ffc-8f0c-505eb27df31e"
   },
   "outputs": [
    {
     "name": "stdout",
     "output_type": "stream",
     "text": [
      "Train dataset shape: (1693, 21)\n",
      "Validation dataset shape: (142, 21)\n",
      "Test dataset shape: (142, 21)\n"
     ]
    }
   ],
   "source": [
    "#split train,validation and test set\n",
    "df, train, validation, train_validation, test = split_data(stock_df)\n",
    "    \n",
    "print('Train dataset shape: %s' % str(train.shape))\n",
    "print('Validation dataset shape: %s' % str(validation.shape))\n",
    "print('Test dataset shape: %s' % str(test.shape))"
   ]
  },
  {
   "cell_type": "code",
   "execution_count": 35,
   "metadata": {
    "colab": {},
    "colab_type": "code",
    "id": "ZmFeW6F6q3f1",
    "outputId": "b9d1231a-99bc-4db4-cde3-1d07b7a1e689"
   },
   "outputs": [
    {
     "data": {
      "image/png": "[encoded data removed]",
      "text/plain": [
       "<Figure size 432x288 with 1 Axes>"
      ]
     },
     "metadata": {
      "needs_background": "light"
     },
     "output_type": "display_data"
    }
   ],
   "source": [
    "#see the trend in train, validation and test data\n",
    "ax = train.plot(x='Date', y='Close', style='b-', grid=True)\n",
    "ax = validation.plot(x='Date', y='Close', style='y-', grid=True, ax=ax)\n",
    "ax = test.plot(x='Date', y='Close', style='g-', grid=True, ax=ax)\n",
    "ax.legend(['train', 'validation', 'test']);\n",
    "ax.set_xlabel(\"Date\");\n",
    "ax.set_ylabel('Close Price');"
   ]
  },
  {
   "cell_type": "code",
   "execution_count": 36,
   "metadata": {
    "colab": {},
    "colab_type": "code",
    "id": "N-uk7vk5q3f3",
    "outputId": "b98740e0-884c-45b1-b643-2d6c8c5f1981"
   },
   "outputs": [
    {
     "data": {
      "text/plain": [
       "Text(0, 0.5, 'Close Price')"
      ]
     },
     "execution_count": 36,
     "metadata": {},
     "output_type": "execute_result"
    },
    {
     "data": {
      "image/png": "[encoded data removed]",
      "text/plain": [
       "<Figure size 432x288 with 1 Axes>"
      ]
     },
     "metadata": {
      "needs_background": "light"
     },
     "output_type": "display_data"
    }
   ],
   "source": [
    "#ADF validation to see if the data is stable based on time series\n",
    "ax = train.plot(x='Date', y='log_ret', style='b-', grid=True)\n",
    "ax = validation.plot(x='Date', y='log_ret', style='y-', grid=True, ax=ax)\n",
    "ax = test.plot(x='Date', y='log_ret', style='g-', grid=True, ax=ax)\n",
    "ax.legend(['train', 'validation', 'test'])\n",
    "ax.set_xlabel(\"Date\")\n",
    "ax.set_ylabel('Close Price')"
   ]
  },
  {
   "cell_type": "markdown",
   "metadata": {
    "colab_type": "text",
    "id": "j2QoxQpKq3f4"
   },
   "source": [
    "### 4.1.1 Predict Today's log(return) based on the previous day's log(return)"
   ]
  },
  {
   "cell_type": "code",
   "execution_count": 37,
   "metadata": {
    "colab": {},
    "colab_type": "code",
    "id": "3xzhw9C4q3f5"
   },
   "outputs": [],
   "source": [
    "target_col = 'log_ret'\n",
    "N = 1\n",
    "# defnine the prediction function \n",
    "def pred_func(x):\n",
    "    return x\n",
    "\n",
    "pred_list = train_validation[target_col].rolling(window = N).apply(pred_func)"
   ]
  },
  {
   "cell_type": "code",
   "execution_count": 38,
   "metadata": {
    "colab": {},
    "colab_type": "code",
    "id": "NKvkYPeqq3f7"
   },
   "outputs": [],
   "source": [
    "# use yesterday's log_ret' as the the predicted log return\n",
    "pred_list = np.concatenate((np.array([np.nan]), np.array(pred_list[:-1])))\n",
    "train_set = train.shape[0]\n",
    "y_pred = pred_list[train_set:]\n",
    "y_true = validation['log_ret']"
   ]
  },
  {
   "cell_type": "code",
   "execution_count": 39,
   "metadata": {
    "colab": {},
    "colab_type": "code",
    "id": "MC1iQJkrq3f8",
    "outputId": "0d3758fa-4986-451d-ba34-1fb6a914e217"
   },
   "outputs": [
    {
     "name": "stdout",
     "output_type": "stream",
     "text": [
      "Results of one-day prediction\n",
      "RMSE: 0.030929\n",
      "Accuracy of predicting the stock market price for that day going up or down is 0.5845.\n"
     ]
    }
   ],
   "source": [
    "oneday_rmse = get_rmse(y_true, y_pred)\n",
    "oneday_acc=up_or_down_acc(up_or_down(y_pred),up_or_down(y_true))\n",
    "print('Results of one-day prediction')\n",
    "print('RMSE: %f' % oneday_rmse)\n",
    "print(f'Accuracy of predicting the stock market price for that day going up or down is {oneday_acc:.4}.')"
   ]
  },
  {
   "cell_type": "markdown",
   "metadata": {
    "colab_type": "text",
    "id": "j8v7JDDKq3f-"
   },
   "source": [
    "### 4.1.2 Predict Today's log(return) based on N previous day's log(return)"
   ]
  },
  {
   "cell_type": "code",
   "execution_count": 40,
   "metadata": {
    "colab": {},
    "colab_type": "code",
    "id": "9blxInClq3f-"
   },
   "outputs": [],
   "source": [
    "# define a new predict function with mean of x\n",
    "def pred_func(x):\n",
    "    return np.mean(x)"
   ]
  },
  {
   "cell_type": "markdown",
   "metadata": {
    "colab_type": "text",
    "id": "P4DZNPvtq3gA"
   },
   "source": [
    "Try n from 2 to 25, the RMSE is decreasing"
   ]
  },
  {
   "cell_type": "code",
   "execution_count": 41,
   "metadata": {
    "colab": {},
    "colab_type": "code",
    "id": "PFUSYxjQq3gB"
   },
   "outputs": [],
   "source": [
    "validation_rmse_list = []\n",
    "target_col = 'log_ret'\n",
    "\n",
    "offset = train.shape[0]\n",
    "for N in np.arange(2, 26):\n",
    "    y_pred = get_preds_rolling(train_validation, target_col, N, pred_func, offset)\n",
    "    y_true = validation[target_col].values\n",
    "    validation_rmse_list.append(get_rmse(y_true, y_pred))"
   ]
  },
  {
   "cell_type": "code",
   "execution_count": 42,
   "metadata": {
    "colab": {},
    "colab_type": "code",
    "id": "TJ0g5-Moq3gD",
    "outputId": "d557301d-66b5-441e-fa5a-d7e52a187845"
   },
   "outputs": [
    {
     "data": {
      "image/png": "[encoded data removed]",
      "text/plain": [
       "<Figure size 432x288 with 1 Axes>"
      ]
     },
     "metadata": {
      "needs_background": "light"
     },
     "output_type": "display_data"
    }
   ],
   "source": [
    "plt.figure()\n",
    "plt.plot(np.arange(2, 26), validation_rmse_list, 'x-')\n",
    "plt.grid()\n",
    "plt.xlabel('N')\n",
    "plt.ylabel('RMSE')\n",
    "plt.xlim([2, 26])\n",
    "plt.xticks(np.arange(2, 26));"
   ]
  },
  {
   "cell_type": "code",
   "execution_count": 44,
   "metadata": {
    "colab": {},
    "colab_type": "code",
    "id": "Xo1ThUZPq3gG",
    "outputId": "51d8450c-488f-48a0-ab17-14d7eb23a448"
   },
   "outputs": [
    {
     "name": "stdout",
     "output_type": "stream",
     "text": [
      "Results of moving average prediction\n",
      "RMSE: 0.021756\n",
      "Accuracy of predicting the stock market price for that day going up or down is 0.4014.\n"
     ]
    }
   ],
   "source": [
    "N = 20\n",
    "\n",
    "offset = train_validation.shape[0]\n",
    "y_pred = get_preds_rolling(df, target_col, N, pred_func, offset)\n",
    "y_true = test[target_col].values\n",
    "mov_avg_rmse = get_rmse(y_true, y_pred)\n",
    "nday_acc=up_or_down_acc(up_or_down(y_pred),up_or_down(y_true))\n",
    "print('Results of moving average prediction')\n",
    "print('RMSE: %f' % mov_avg_rmse)\n",
    "print(f'Accuracy of predicting the stock market price for that day going up or down is {nday_acc:.4}.')"
   ]
  },
  {
   "cell_type": "markdown",
   "metadata": {
    "colab_type": "text",
    "id": "9jca7l12q3gI"
   },
   "source": [
    "### 4.1.3 ARIMA(Autoregressive Integrated Moving Average model)"
   ]
  },
  {
   "cell_type": "markdown",
   "metadata": {},
   "source": [
    "* Autoregressive Integrated Moving Average model: fitted to time series data either to better understand the data or to predict future points in the series (forecasting). "
   ]
  },
  {
   "cell_type": "code",
   "execution_count": 45,
   "metadata": {
    "colab": {},
    "colab_type": "code",
    "id": "Q3Yeg6mqq3gJ"
   },
   "outputs": [],
   "source": [
    "#! pip install arch\n",
    "from statsmodels.stats.diagnostic import unitroot_adf\n",
    "from arch.unitroot import ADF"
   ]
  },
  {
   "cell_type": "code",
   "execution_count": 46,
   "metadata": {
    "colab": {},
    "colab_type": "code",
    "id": "QCGg7IIqq3gM",
    "outputId": "c426a03f-ffe9-4d3b-e7a1-581651d419cb"
   },
   "outputs": [
    {
     "name": "stdout",
     "output_type": "stream",
     "text": [
      "   Augmented Dickey-Fuller Results   \n",
      "=====================================\n",
      "Test Statistic                -39.360\n",
      "P-value                         0.000\n",
      "Lags                                0\n",
      "-------------------------------------\n",
      "\n",
      "Trend: Constant\n",
      "Critical Values: -3.43 (1%), -2.86 (5%), -2.57 (10%)\n",
      "Null Hypothesis: The process contains a unit root.\n",
      "Alternative Hypothesis: The process is weakly stationary.\n"
     ]
    }
   ],
   "source": [
    "# use ADF to test if the stock price is stationary over time\n",
    "train_log = train['log_ret']\n",
    "print(ADF(train_log).summary())"
   ]
  },
  {
   "cell_type": "markdown",
   "metadata": {
    "colab_type": "text",
    "id": "up1XMbmiq3gP"
   },
   "source": [
    "* If our significant level is 5%, the test statistic is -2.86, test statistics of our series is -46.142, much less than -2.87, so the series is stationary。"
   ]
  },
  {
   "cell_type": "code",
   "execution_count": 47,
   "metadata": {
    "colab": {},
    "colab_type": "code",
    "id": "ZMce1sAFq3gP",
    "outputId": "40e60ef9-1fa6-4c8c-8b04-51b23979e24c"
   },
   "outputs": [
    {
     "name": "stdout",
     "output_type": "stream",
     "text": [
      "Results of arima prediction\n",
      "RMSE: 0.020890\n",
      "Accuracy of predicting the stock market price for that day going up or down is 0.5493.\n"
     ]
    }
   ],
   "source": [
    "from statsmodels.tsa.arima_model import ARIMA\n",
    "order = (3, 0, 0) # argument\n",
    "target_col = 'log_ret'\n",
    "# add a new data point to history\n",
    "history = [i for i in train_validation[target_col]]\n",
    "y_true = test[target_col].values\n",
    "y_pred = []\n",
    "\n",
    "for t in range(len(y_true)):\n",
    "    model = ARIMA(history, order=order)\n",
    "    #fit the model\n",
    "    model_fit = model.fit(disp=False)\n",
    "    #predict one point \n",
    "    output = model_fit.forecast()\n",
    "    yhat = output[0]\n",
    "    # add it to the prediction list\n",
    "    y_pred.append(yhat)\n",
    "    \n",
    "    obs = y_true[t]\n",
    "    history.append(obs)\n",
    "arima_rmse = get_rmse(y_true, y_pred)\n",
    "arima_acc=up_or_down_acc(up_or_down(y_pred),up_or_down(y_true))\n",
    "print('Results of arima prediction')\n",
    "print('RMSE: %f' % arima_rmse)\n",
    "print(f'Accuracy of predicting the stock market price for that day going up or down is {arima_acc:.4}.')"
   ]
  },
  {
   "cell_type": "code",
   "execution_count": 48,
   "metadata": {
    "colab": {},
    "colab_type": "code",
    "id": "UsHgsZ-jq3gQ",
    "outputId": "1f0cc7c9-5c69-4ba6-d36f-deb760dfd38c"
   },
   "outputs": [
    {
     "name": "stdout",
     "output_type": "stream",
     "text": [
      "one-day prediction:\t 0.030929\n",
      "one-day accuracy:\t 0.584507\n",
      "mov_avg prediction:\t 0.021756\n",
      "mov-day accuracy:\t 0.401408\n",
      "arima prediction:\t 0.020890\n",
      "arima accuracy:\t 0.549296\n"
     ]
    }
   ],
   "source": [
    "print('one-day prediction:\\t %f' % oneday_rmse)\n",
    "print('one-day accuracy:\\t %f' %oneday_acc)\n",
    "print('mov_avg prediction:\\t %f' % mov_avg_rmse)\n",
    "print('mov-day accuracy:\\t %f' %nday_acc)\n",
    "print('arima prediction:\\t %f' % arima_rmse)\n",
    "print('arima accuracy:\\t %f' %arima_acc)"
   ]
  },
  {
   "cell_type": "markdown",
   "metadata": {},
   "source": [
    "* In linear model part, we use 3 models(last known value, average value over time, ARIMA) to predict the logarithm of the closing price of the next day. We can see that ARIMA is the best, for its accuracy is the highest. "
   ]
  },
  {
   "cell_type": "markdown",
   "metadata": {
    "colab_type": "text",
    "id": "Yg8PBPi9q3gS"
   },
   "source": [
    "### 4.2 Machine Learning"
   ]
  },
  {
   "cell_type": "markdown",
   "metadata": {
    "colab_type": "text",
    "id": "kO_C_2F6q3gS"
   },
   "source": [
    "### 4.2.1 Feature Engineering for Sklearn Machine Learning Model"
   ]
  },
  {
   "cell_type": "markdown",
   "metadata": {},
   "source": [
    "* We use the 'Open', 'High', 'Low', 'Close', 'Volume' of the past five days as the basic input feature. Feature engineering, also known as feature creation, is the process of constructing new features from existing data to train a machine learning model. This step can be more important than the actual model used because a machine learning algorithm only learns from the data we give it, and creating features that are relevant to a task is absolutely crucial. Feature engineering means building additional features out of existing data which is often spread across multiple related tables. Feature engineering requires extracting the relevant information from the data and getting it into a single table which can then be used to train a machine learning model."
   ]
  },
  {
   "cell_type": "code",
   "execution_count": 49,
   "metadata": {
    "colab": {},
    "colab_type": "code",
    "id": "3HBiD2Exq3gS",
    "outputId": "49a6e12f-bf1b-4fce-c038-56d331149278"
   },
   "outputs": [
    {
     "name": "stdout",
     "output_type": "stream",
     "text": [
      "['Open', 'High', 'Low', 'Close', 'Volume', 'Open_lag_1', 'Open_lag_2', 'Open_lag_3', 'Open_lag_4', 'High_lag_1', 'High_lag_2', 'High_lag_3', 'High_lag_4', 'Low_lag_1', 'Low_lag_2', 'Low_lag_3', 'Low_lag_4', 'Close_lag_1', 'Close_lag_2', 'Close_lag_3', 'Close_lag_4', 'Volume_lag_1', 'Volume_lag_2', 'Volume_lag_3', 'Volume_lag_4']\n"
     ]
    }
   ],
   "source": [
    "#create basic input features\n",
    "basic_features = ['Open', 'High', 'Low', 'Close', 'Volume'] \n",
    "input_features = basic_features[:] \n",
    "lagged_days = 5 \n",
    "lagged_df = df.copy() \n",
    "for feature in basic_features:\n",
    "    for day in range(1, lagged_days):\n",
    "        col = feature+'_lag_'+str(day)\n",
    "        lagged_df[col] = lagged_df[feature].shift(day)\n",
    "        input_features.append(col)\n",
    "print(input_features)"
   ]
  },
  {
   "cell_type": "markdown",
   "metadata": {},
   "source": [
    "* Typically, feature engineering is a drawn-out manual process, relying on domain knowledge, intuition, and data manipulation. This process can be extremely tedious and the final features will be limited both by human subjectivity and time. Here we use talib to manually create some features to see if they could improve our prediction accuracy."
   ]
  },
  {
   "cell_type": "code",
   "execution_count": 50,
   "metadata": {
    "colab": {},
    "colab_type": "code",
    "id": "_GCbLkMyq3gU",
    "outputId": "2578e263-0dbc-44d1-8127-d476114f7dd0"
   },
   "outputs": [
    {
     "name": "stdout",
     "output_type": "stream",
     "text": [
      "['Open', 'High', 'Low', 'Close', 'Volume', 'Open_lag_1', 'Open_lag_2', 'Open_lag_3', 'Open_lag_4', 'High_lag_1', 'High_lag_2', 'High_lag_3', 'High_lag_4', 'Low_lag_1', 'Low_lag_2', 'Low_lag_3', 'Low_lag_4', 'Close_lag_1', 'Close_lag_2', 'Close_lag_3', 'Close_lag_4', 'Volume_lag_1', 'Volume_lag_2', 'Volume_lag_3', 'Volume_lag_4', 'ema5', 'upperband5', 'middleband5', 'lowerband5']\n"
     ]
    }
   ],
   "source": [
    "#extend input features to include technical indicators\n",
    "extended_input_features = input_features[:] \n",
    "timeperiod = 5 \n",
    "lagged_df['ema5'] = talib.EMA(lagged_df['Close'], timeperiod=timeperiod) \n",
    "extended_input_features.append('ema5')\n",
    "nbdevup = 2 \n",
    "nbdevdn = 2 \n",
    "lagged_df['upperband5'], lagged_df['middleband5'], lagged_df['lowerband5'] = talib.BBANDS(lagged_df['Close'], timeperiod=timeperiod, nbdevup=nbdevup, nbdevdn=nbdevdn) \n",
    "extended_input_features.append('upperband5') \n",
    "extended_input_features.append('middleband5') \n",
    "extended_input_features.append('lowerband5') \n",
    "lagged_df = lagged_df.dropna() \n",
    "print(extended_input_features)"
   ]
  },
  {
   "cell_type": "code",
   "execution_count": 51,
   "metadata": {
    "colab": {},
    "colab_type": "code",
    "id": "nyXnajeVq3gW"
   },
   "outputs": [],
   "source": [
    "#split data into trainning dataset, validation dataset and test dataset\n",
    "train = lagged_df['2010-01-01':'2017-12-31']\n",
    "cv = lagged_df['2018-01-01': '2018-12-31']\n",
    "train_cv = lagged_df['2010-01-01':'2018-12-31']\n",
    "test = lagged_df['2019-01-01': '2019-12-31']"
   ]
  },
  {
   "cell_type": "markdown",
   "metadata": {},
   "source": [
    "* Preprocessing on Input features: We want to standardize the data for the input features by scaling the data so that it falls into a specific range that is arbitrarily small. Since the units of measurement of different input characteristics are different, we can map the value to a similar interval by function transformation. \n",
    "* We're going to use z-score normalization. We subtract the mean, and then we divide it by the standard deviation."
   ]
  },
  {
   "cell_type": "code",
   "execution_count": 52,
   "metadata": {
    "colab": {},
    "colab_type": "code",
    "id": "XX7hzEjxq3gY"
   },
   "outputs": [],
   "source": [
    "#scale input features using StandardScaler\n",
    "from sklearn.preprocessing import StandardScaler \n",
    "\n",
    "scaler = StandardScaler()\n",
    "train_scaled = scaler.fit_transform(train[extended_input_features])\n",
    "train_scaled = pd.DataFrame(train_scaled, columns=extended_input_features)\n",
    "cv_scaled = scaler.transform(cv[extended_input_features])\n",
    "cv_scaled = pd.DataFrame(cv_scaled, columns=extended_input_features)\n",
    "scaler = StandardScaler()\n",
    "train_cv_scaled = scaler.fit_transform(train_cv[extended_input_features])\n",
    "train_cv_scaled = pd.DataFrame(train_cv_scaled, columns=extended_input_features)\n",
    "test_scaled = scaler.transform(test[extended_input_features])\n",
    "test_scaled = pd.DataFrame(test_scaled, columns=extended_input_features)\n",
    "target_col = 'log_ret' \n",
    "y_train = train[target_col] \n",
    "y_cv = cv[target_col] \n",
    "y_train_cv = train_cv[target_col] \n",
    "y_test = test[target_col]"
   ]
  },
  {
   "cell_type": "markdown",
   "metadata": {
    "colab_type": "text",
    "id": "M7zVIR91q3ga"
   },
   "source": [
    "### 4.2.2 Linear Regression"
   ]
  },
  {
   "cell_type": "code",
   "execution_count": 53,
   "metadata": {
    "colab": {},
    "colab_type": "code",
    "id": "VXBBA4Tkq3ga"
   },
   "outputs": [],
   "source": [
    "from sklearn.linear_model import LinearRegression\n",
    "\n",
    "#define a function to return the prediction for log(return)\n",
    "def pred_func(x):\n",
    "    X_train = np.array(range(len(x))) # the date, suppose that the interval of open days are equal\n",
    "    y_train = np.array(x) # \n",
    "    X_train = X_train.reshape(-1, 1) #\n",
    "    y_train = y_train.reshape(-1, 1)\n",
    "    regr = LinearRegression(fit_intercept=True) # set the model\n",
    "    regr.fit(X_train, y_train) # fit the model\n",
    "    pred = regr.predict(np.array([len(x)]).reshape(-1, 1)) # predict the next point\n",
    "    return pred[0][0]"
   ]
  },
  {
   "cell_type": "code",
   "execution_count": 54,
   "metadata": {
    "colab": {},
    "colab_type": "code",
    "id": "mRo-Qf7nq3gc"
   },
   "outputs": [],
   "source": [
    "#evaluate RMSE given different N rolling window\n",
    "cv_rmse_list = []\n",
    "target_col = 'log_ret'\n",
    "offset = train.shape[0]\n",
    "for N in np.arange(2, 31):\n",
    "    y_pred = get_preds_rolling(train_cv, target_col, N, pred_func, offset)\n",
    "    y_true = cv[target_col].values # RMSE \n",
    "    cv_rmse_list.append(get_rmse(y_true, y_pred))\n",
    "    "
   ]
  },
  {
   "cell_type": "code",
   "execution_count": 55,
   "metadata": {
    "colab": {},
    "colab_type": "code",
    "id": "T36VlYRdq3gd",
    "outputId": "18aa09d3-a230-416c-b044-2b4c7cb1c88b"
   },
   "outputs": [
    {
     "data": {
      "image/png": "[encoded data removed]",
      "text/plain": [
       "<Figure size 432x288 with 1 Axes>"
      ]
     },
     "metadata": {
      "needs_background": "light"
     },
     "output_type": "display_data"
    }
   ],
   "source": [
    "#plot to see which is the best N\n",
    "plt.figure()\n",
    "plt.plot(np.arange(2, 31), cv_rmse_list, 'x-')\n",
    "plt.grid()\n",
    "plt.xlabel('N')\n",
    "plt.ylabel('RMSE')\n",
    "plt.xlim([2, 30])\n",
    "plt.xticks([2, 5, 10, 15, 20,30]);"
   ]
  },
  {
   "cell_type": "code",
   "execution_count": 58,
   "metadata": {
    "colab": {},
    "colab_type": "code",
    "id": "r6Qq1Ozgq3ge",
    "outputId": "4cf3c8a8-3eb0-4fa3-ea06-18ae63c6ce79"
   },
   "outputs": [
    {
     "name": "stdout",
     "output_type": "stream",
     "text": [
      "Results of linear regression prediction\n",
      "RMSE: 0.022704\n",
      "ACC: 0.471831\n"
     ]
    }
   ],
   "source": [
    "# choose 30 as the best number of days\n",
    "target_col = 'log_ret'\n",
    "N = 27\n",
    "offset = train_validation.shape[0]\n",
    "y_pred = get_preds_rolling(df, target_col, N, pred_func, offset)\n",
    "y_true = test[target_col].values\n",
    "lin_reg_rmse = get_rmse(y_true, y_pred)\n",
    "lin_reg_acc=up_or_down_acc(up_or_down(y_pred),up_or_down(y_true))\n",
    "print('Results of linear regression prediction')\n",
    "print('RMSE: %f' % lin_reg_rmse)\n",
    "print('ACC: %f' % lin_reg_acc)"
   ]
  },
  {
   "cell_type": "markdown",
   "metadata": {
    "colab_type": "text",
    "id": "UKmKN979q3gf"
   },
   "source": [
    "### 4.2.3 K Nearest Neighbour"
   ]
  },
  {
   "cell_type": "markdown",
   "metadata": {},
   "source": [
    "* K nearest Neighbour: An object is classified by a plurality vote of its neighbors, with the object being assigned to the class most common among its k nearest neighbors (k is a positive integer, typically small). \n",
    "* When predicting tomorrow's logarithmic return, we use the \"average method\", which uses the average of the logarithmic return corresponding to the k samples as the prediction result."
   ]
  },
  {
   "cell_type": "code",
   "execution_count": 57,
   "metadata": {
    "colab": {},
    "colab_type": "code",
    "id": "BHo58kXqq3gg",
    "outputId": "c91d84e7-6e64-4eb7-bea5-667f4ede3175"
   },
   "outputs": [
    {
     "name": "stdout",
     "output_type": "stream",
     "text": [
      "Number of neighbors:  2\n",
      "RMSE: 0.03302155680645315\n",
      "ACC: 0.5140845070422535\n",
      "\n",
      "Number of neighbors:  5\n",
      "RMSE: 0.029497317077614722\n",
      "ACC: 0.5070422535211268\n",
      "\n",
      "Number of neighbors:  10\n",
      "RMSE: 0.029192799517698827\n",
      "ACC: 0.5070422535211268\n",
      "\n",
      "Number of neighbors:  20\n",
      "RMSE: 0.02835261200463525\n",
      "ACC: 0.5\n",
      "\n",
      "Number of neighbors:  50\n",
      "RMSE: 0.027745251524630893\n",
      "ACC: 0.5\n",
      "\n",
      "Number of neighbors:  100\n",
      "RMSE: 0.027623709109903416\n",
      "ACC: 0.5\n",
      "\n"
     ]
    }
   ],
   "source": [
    "from sklearn.neighbors import KNeighborsRegressor\n",
    "n_neighbors_list = [2, 5, 10, 20, 50, 100]\n",
    "cv_rmse_list = [] \n",
    "for n_neighbors in n_neighbors_list:\n",
    "    print('Number of neighbors: ', n_neighbors) \n",
    "    model = KNeighborsRegressor(n_neighbors) \n",
    "    model.fit(train_scaled[input_features], y_train) \n",
    "    y_pred = model.predict(cv_scaled[input_features])\n",
    "    print(f'RMSE: {get_rmse(y_cv, y_pred)}')\n",
    "    print(f'ACC: {up_or_down_acc(up_or_down(y_pred),up_or_down(y_cv))}')\n",
    "    print()"
   ]
  },
  {
   "cell_type": "code",
   "execution_count": 59,
   "metadata": {
    "colab": {},
    "colab_type": "code",
    "id": "qi-d_bkFq3gi",
    "outputId": "edf4c96c-f103-4e36-b39e-759bd16aa50c"
   },
   "outputs": [
    {
     "name": "stdout",
     "output_type": "stream",
     "text": [
      "Results of knn regression prediction on basic input features\n",
      "RMSE: 0.020609\n"
     ]
    }
   ],
   "source": [
    "#use 100 as KNeighborsRegressor for getting the lowest RMSE\n",
    "model = KNeighborsRegressor(n_neighbors=100)\n",
    "model.fit(train_cv_scaled[input_features], y_train_cv) \n",
    "y_pred = model.predict(test_scaled[input_features])\n",
    "knn_basic_rmse = get_rmse(y_test, y_pred)\n",
    "\n",
    "print('Results of knn regression prediction on basic input features')\n",
    "print('RMSE: %f' % knn_basic_rmse)\n"
   ]
  },
  {
   "cell_type": "code",
   "execution_count": 62,
   "metadata": {
    "colab": {},
    "colab_type": "code",
    "id": "Gp_uI0PZq3gk",
    "outputId": "318349e6-cf20-40de-bca2-0840923b3b5f"
   },
   "outputs": [
    {
     "name": "stdout",
     "output_type": "stream",
     "text": [
      "ACC: 0.556338\n"
     ]
    }
   ],
   "source": [
    "#use 2 as KNeigborsRegressor for getting the highest acc\n",
    "model = KNeighborsRegressor(n_neighbors=100)\n",
    "model.fit(train_cv_scaled[input_features], y_train_cv) \n",
    "y_pred = model.predict(test_scaled[input_features])\n",
    "knn_basic_acc=up_or_down_acc(up_or_down(y_pred),up_or_down(y_true))\n",
    "print('ACC: %f' % knn_basic_acc)\n"
   ]
  },
  {
   "cell_type": "code",
   "execution_count": 63,
   "metadata": {
    "colab": {},
    "colab_type": "code",
    "id": "Q79x5fYoq3gl",
    "outputId": "42120f6d-bb88-43b6-be76-7b27f8cc975d"
   },
   "outputs": [
    {
     "name": "stdout",
     "output_type": "stream",
     "text": [
      "Number of neighbors:  2\n",
      "0.03297445668727612\n",
      "0.5211267605633803\n",
      "Number of neighbors:  5\n",
      "0.029387891387453444\n",
      "0.5140845070422535\n",
      "Number of neighbors:  10\n",
      "0.02910165102554865\n",
      "0.5070422535211268\n",
      "Number of neighbors:  20\n",
      "0.028344086842419965\n",
      "0.5\n",
      "Number of neighbors:  50\n",
      "0.027741396811870263\n",
      "0.5\n",
      "Number of neighbors:  100\n",
      "0.027624115505630212\n",
      "0.5\n"
     ]
    }
   ],
   "source": [
    "#include technical indicators\n",
    "n_neighbors_list = [2, 5, 10, 20, 50, 100] \n",
    "cv_rmse_list = [] \n",
    "for n_neighbors in n_neighbors_list:\n",
    "    print('Number of neighbors: ', n_neighbors)\n",
    "    model = KNeighborsRegressor(n_neighbors)\n",
    "    model.fit(train_scaled, y_train)\n",
    "    y_pred = model.predict(cv_scaled)\n",
    "    print(get_rmse(y_cv, y_pred))\n",
    "    print(up_or_down_acc(up_or_down(y_pred),up_or_down(y_cv)))"
   ]
  },
  {
   "cell_type": "code",
   "execution_count": 60,
   "metadata": {
    "colab": {},
    "colab_type": "code",
    "id": "0IjTEUM6q3go",
    "outputId": "a9c7cfda-bedb-4ee9-8d51-2bbcd77ce771"
   },
   "outputs": [
    {
     "name": "stdout",
     "output_type": "stream",
     "text": [
      "Results of knn regression prediction\n",
      "RMSE: 0.020615\n"
     ]
    }
   ],
   "source": [
    "#use 100 as KNeighborsRegressor for getting the lowest RMSE\n",
    "model = KNeighborsRegressor(n_neighbors=100)\n",
    "model.fit(train_cv_scaled, y_train_cv)\n",
    "y_pred = model.predict(test_scaled)\n",
    "knn_rmse = get_rmse(y_test, y_pred)\n",
    "\n",
    "print('Results of knn regression prediction')\n",
    "print('RMSE: %f' % knn_rmse)\n"
   ]
  },
  {
   "cell_type": "code",
   "execution_count": 61,
   "metadata": {
    "colab": {},
    "colab_type": "code",
    "id": "ggp_4rjLq3gp",
    "outputId": "466a7de1-55b1-42f5-8528-34d07a43dd9b"
   },
   "outputs": [
    {
     "name": "stdout",
     "output_type": "stream",
     "text": [
      "ACC: 0.521127\n"
     ]
    }
   ],
   "source": [
    "#use 5 as KNeigborsRegressor for getting the highest acc\n",
    "model = KNeighborsRegressor(n_neighbors=5)\n",
    "model.fit(train_cv_scaled, y_train_cv)\n",
    "y_pred = model.predict(test_scaled)\n",
    "knn_acc=up_or_down_acc(up_or_down(y_pred),up_or_down(y_true))\n",
    "print('ACC: %f' % knn_acc)\n"
   ]
  },
  {
   "cell_type": "markdown",
   "metadata": {
    "colab_type": "text",
    "id": "zm3Q4Ra4q3gr"
   },
   "source": [
    "### 4.2.4 Random Forest"
   ]
  },
  {
   "cell_type": "markdown",
   "metadata": {},
   "source": [
    "* Random forests: an ensemble learning method for classification, regression and other tasks that operate by constructing a multitude of decision trees at training time and outputting the class that is the mode of the classes (classification) or mean prediction (regression) of the individual trees."
   ]
  },
  {
   "cell_type": "code",
   "execution_count": 62,
   "metadata": {
    "colab": {},
    "colab_type": "code",
    "id": "rxwIyD7Lq3gr"
   },
   "outputs": [],
   "source": [
    "from sklearn.ensemble import RandomForestRegressor\n",
    "from sklearn.model_selection import ParameterGrid"
   ]
  },
  {
   "cell_type": "code",
   "execution_count": 63,
   "metadata": {
    "colab": {},
    "colab_type": "code",
    "id": "jQxuxY_vq3gs",
    "outputId": "7a2994b4-1f90-4da6-dce5-cff38ed9b9d1"
   },
   "outputs": [
    {
     "name": "stdout",
     "output_type": "stream",
     "text": [
      "Params:  {'max_depth': 2, 'n_estimators': 10}\n",
      "RMSE:0.02762431816987821\n",
      "ACC: 0.5\n",
      "\n",
      "Params:  {'max_depth': 2, 'n_estimators': 50}\n",
      "RMSE:0.027621730485352426\n",
      "ACC: 0.5\n",
      "\n",
      "Params:  {'max_depth': 2, 'n_estimators': 100}\n",
      "RMSE:0.027624084497358672\n",
      "ACC: 0.5\n",
      "\n",
      "Params:  {'max_depth': 3, 'n_estimators': 10}\n",
      "RMSE:0.027644742913528992\n",
      "ACC: 0.5\n",
      "\n",
      "Params:  {'max_depth': 3, 'n_estimators': 50}\n",
      "RMSE:0.027622425745596316\n",
      "ACC: 0.5\n",
      "\n",
      "Params:  {'max_depth': 3, 'n_estimators': 100}\n",
      "RMSE:0.02762112036854598\n",
      "ACC: 0.5\n",
      "\n",
      "Params:  {'max_depth': 4, 'n_estimators': 10}\n",
      "RMSE:0.027683719037611788\n",
      "ACC: 0.5\n",
      "\n",
      "Params:  {'max_depth': 4, 'n_estimators': 50}\n",
      "RMSE:0.02766728556091874\n",
      "ACC: 0.5\n",
      "\n",
      "Params:  {'max_depth': 4, 'n_estimators': 100}\n",
      "RMSE:0.027645877610878312\n",
      "ACC: 0.5\n",
      "\n",
      "Params:  {'max_depth': 5, 'n_estimators': 10}\n",
      "RMSE:0.027744418414257944\n",
      "ACC: 0.5\n",
      "\n",
      "Params:  {'max_depth': 5, 'n_estimators': 50}\n",
      "RMSE:0.027696875005506254\n",
      "ACC: 0.5\n",
      "\n",
      "Params:  {'max_depth': 5, 'n_estimators': 100}\n",
      "RMSE:0.027633674408669737\n",
      "ACC: 0.5\n",
      "\n"
     ]
    }
   ],
   "source": [
    "params = {'max_depth': [2, 3, 4, 5], 'n_estimators': [10, 50, 100]}\n",
    "\n",
    "for param in list(ParameterGrid(params)):\n",
    "    print('Params: ', param)\n",
    "    model = RandomForestRegressor(**param, random_state=0)\n",
    "    model.fit(train_scaled, y_train) \n",
    "    y_pred = model.predict(cv_scaled)\n",
    "    print(f'RMSE:{get_rmse(y_cv, y_pred)}')\n",
    "    print(f'ACC: {up_or_down_acc(up_or_down(y_pred),up_or_down(y_cv))}')\n",
    "    print()"
   ]
  },
  {
   "cell_type": "code",
   "execution_count": 64,
   "metadata": {
    "colab": {},
    "colab_type": "code",
    "id": "FRuICEYBq3gu",
    "outputId": "68454403-2827-4fef-ab72-31f5cf811125"
   },
   "outputs": [
    {
     "name": "stdout",
     "output_type": "stream",
     "text": [
      "ACC: 0.521127\n",
      "Results of random forest regression prediction\n",
      "RMSE: 0.020917\n"
     ]
    }
   ],
   "source": [
    "model = RandomForestRegressor(max_depth=3, n_estimators=10) \n",
    "model.fit(train_cv_scaled, y_train_cv)\n",
    "y_pred = model.predict(test_scaled) \n",
    "rf_rmse = get_rmse(y_test, y_pred)\n",
    "rf_acc=up_or_down_acc(up_or_down(y_pred),up_or_down(y_true))\n",
    "print('ACC: %f' % rf_acc)\n",
    "print('Results of random forest regression prediction')\n",
    "print('RMSE: %f' % rf_rmse)"
   ]
  },
  {
   "cell_type": "markdown",
   "metadata": {},
   "source": [
    "* In machine learning part, we use linear regression, K nearest neighbors and random forest to predict the logarithm of the closing price of the next day. We can see that random forest is the best, for its accuracy is the highest. And the accuracy in random forest is better than it in ARIMA."
   ]
  },
  {
   "cell_type": "markdown",
   "metadata": {
    "colab_type": "text",
    "id": "KaEQ9_9wq3gw"
   },
   "source": [
    "## 4.3 Deep Learning"
   ]
  },
  {
   "cell_type": "code",
   "execution_count": 65,
   "metadata": {
    "colab": {},
    "colab_type": "code",
    "id": "QBqGVK-qq3gw",
    "outputId": "318d988b-2282-4593-aa97-5212c0205893"
   },
   "outputs": [
    {
     "name": "stdout",
     "output_type": "stream",
     "text": [
      "Train dataset shape: (1693, 21)\n",
      "Validation dataset shape: (142, 21)\n",
      "Test dataset shape: (142, 21)\n"
     ]
    }
   ],
   "source": [
    "df, train, cv, train_cv, test = split_data(stock_df)\n",
    "print('Train dataset shape: %s' % str(train.shape))\n",
    "print('Validation dataset shape: %s' % str(cv.shape))\n",
    "print('Test dataset shape: %s' % str(test.shape))"
   ]
  },
  {
   "cell_type": "code",
   "execution_count": 66,
   "metadata": {
    "colab": {},
    "colab_type": "code",
    "id": "ocUNcF_wq3gy"
   },
   "outputs": [],
   "source": [
    "train_data = train[['log_ret']]\n",
    "cv_data = cv[['log_ret']]\n",
    "train_cv_data = train_cv[['log_ret']]\n",
    "test_data = test[['log_ret']]"
   ]
  },
  {
   "cell_type": "code",
   "execution_count": 67,
   "metadata": {
    "colab": {},
    "colab_type": "code",
    "id": "EJjZc6Zmq3gz"
   },
   "outputs": [],
   "source": [
    "#The data is normalized by z-score\n",
    "# The train set is normalized based on the mean and variance of the training set\n",
    "from sklearn.preprocessing import StandardScaler\n",
    "train_scaler = StandardScaler()\n",
    "train_data_scaled = train_scaler.fit_transform(train_data).reshape(-1, 1)\n",
    "cv_data_scaled = train_scaler.transform(cv_data).reshape(-1, 1)\n",
    "# The test set is normalized based on the mean and variance of the training set and the validation set\n",
    "train_cv_scaler = StandardScaler()\n",
    "train_cv_data_scaled = train_cv_scaler.fit_transform(\n",
    "    train_cv_data).reshape(-1, 1)\n",
    "test_data_scaled = train_cv_scaler.transform(test_data).reshape(-1, 1)"
   ]
  },
  {
   "cell_type": "code",
   "execution_count": 68,
   "metadata": {
    "colab": {},
    "colab_type": "code",
    "id": "GlIMZfKaq3g0"
   },
   "outputs": [],
   "source": [
    "#Extraction of input features and prediction targets\n",
    "def get_x_y(data, N, offset):\n",
    "    x, y = [], []\n",
    "    for i in range(offset, len(data)):\n",
    "        x.append(data[i - N:i])\n",
    "        y.append(data[i])\n",
    "    x = np.array(x)\n",
    "    y = np.array(y)\n",
    "\n",
    "    return x, y"
   ]
  },
  {
   "cell_type": "code",
   "execution_count": 69,
   "metadata": {
    "colab": {},
    "colab_type": "code",
    "id": "QjRj2VfBq3g2"
   },
   "outputs": [],
   "source": [
    "#We use the log return of the previous N days as the input feature:\n",
    "N = 9\n",
    "# The reason why offset=N here is that the first few days do not have the log return of the previous N days, so the input feature is insufficient\n",
    "x_train_scaled, y_train_scaled = get_x_y(train_data_scaled, N, N)\n",
    "y_train = train_data[N:]\n",
    "# To obtain the input features of the validation set, we need to spliced the part of the training set, and then only take the part of the validation set when obtaining the results\n",
    "x_cv_scaled, y_cv_scaled = get_x_y(np.concatenate(\n",
    "    (train_data_scaled, cv_data_scaled), axis=0), N, len(train_data_scaled))\n",
    "y_cv = cv_data[:]\n",
    "x_train_cv_scaled, y_train_cv_scaled = get_x_y(train_cv_data_scaled, N, N)\n",
    "y_train_cv = train_cv_data[N:]\n",
    "# To obtain the input features of the test set, we need to spliced the part of the training set and the validation set, and then only take the part of the test set when obtaining the results\n",
    "x_test_scaled, y_test_scaled = get_x_y(np.concatenate(\n",
    "    (train_cv_data_scaled, test_data_scaled), axis=0), N, len(train_cv_data_scaled))\n",
    "y_test = test_data[:]"
   ]
  },
  {
   "cell_type": "markdown",
   "metadata": {
    "colab_type": "text",
    "id": "a0kxJ9Ldq3g4"
   },
   "source": [
    "### 4.3.1 MLP"
   ]
  },
  {
   "cell_type": "markdown",
   "metadata": {},
   "source": [
    "* A multilayer perceptron (MLP) is a class of feedforward artificial neural network (ANN). MLP utilizes a supervised learning technique called backpropagation for training. Its multiple layers and non-linear activation distinguish MLP from a linear perceptron. It can distinguish data that is not linearly separable."
   ]
  },
  {
   "cell_type": "code",
   "execution_count": 70,
   "metadata": {
    "colab": {},
    "colab_type": "code",
    "id": "LThqtuSCq3g4",
    "outputId": "f37389db-df22-4008-95a5-16bc718ae2d6"
   },
   "outputs": [
    {
     "name": "stderr",
     "output_type": "stream",
     "text": [
      "Using TensorFlow backend.\n"
     ]
    }
   ],
   "source": [
    "from keras.models import Sequential\n",
    "from keras.layers import Dense, Dropout, Flatten"
   ]
  },
  {
   "cell_type": "code",
   "execution_count": 71,
   "metadata": {
    "colab": {},
    "colab_type": "code",
    "id": "jLbZ73gyq3g6"
   },
   "outputs": [],
   "source": [
    "mlp_units = 50  # The number of neurons in each layer\n",
    "dropout_prob = 0.1  # The probability of dropout\n",
    "optimizer = 'adam'  # The optimizer\n",
    "epochs = 10  # Number of training cycles\n",
    "batch_size = 8  # The number of small samples used for each update parameter\n",
    "activation = 'relu'  # The activation function"
   ]
  },
  {
   "cell_type": "code",
   "execution_count": 72,
   "metadata": {
    "colab": {},
    "colab_type": "code",
    "id": "PrOcNHZFq3g9",
    "outputId": "0947c119-1a49-419e-e6fe-d9701a80a935"
   },
   "outputs": [
    {
     "name": "stdout",
     "output_type": "stream",
     "text": [
      "Model: \"sequential_1\"\n",
      "_________________________________________________________________\n",
      "Layer (type)                 Output Shape              Param #   \n",
      "=================================================================\n",
      "dense_1 (Dense)              (None, 9, 50)             100       \n",
      "_________________________________________________________________\n",
      "dropout_1 (Dropout)          (None, 9, 50)             0         \n",
      "_________________________________________________________________\n",
      "flatten_1 (Flatten)          (None, 450)               0         \n",
      "_________________________________________________________________\n",
      "dense_2 (Dense)              (None, 50)                22550     \n",
      "_________________________________________________________________\n",
      "dropout_2 (Dropout)          (None, 50)                0         \n",
      "_________________________________________________________________\n",
      "dense_3 (Dense)              (None, 1)                 51        \n",
      "=================================================================\n",
      "Total params: 22,701\n",
      "Trainable params: 22,701\n",
      "Non-trainable params: 0\n",
      "_________________________________________________________________\n",
      "None\n"
     ]
    }
   ],
   "source": [
    "model = Sequential()\n",
    "# A Dense is a fully connected layer, and the shape of the input is determined by the dimensions of our input data (number of samples, 9 days, number of features per day)\n",
    "# The later layers automatically determine the shape of the input and output\n",
    "model.add(Dense(units=mlp_units, activation=activation, input_shape=(x_train_scaled.shape[1:])))\n",
    "model.add(Dropout(dropout_prob))\n",
    "# Flatten flattens out the input at the upper level\n",
    "model.add(Flatten())\n",
    "model.add(Dense(units=mlp_units, activation=activation))\n",
    "model.add(Dropout(dropout_prob))\n",
    "model.add(Dense(1, activation=activation))\n",
    "\n",
    "model.compile(loss='mean_squared_error', optimizer=optimizer)\n",
    "print(model.summary())"
   ]
  },
  {
   "cell_type": "code",
   "execution_count": 77,
   "metadata": {
    "colab": {},
    "colab_type": "code",
    "id": "rR58SGXJq3g-",
    "outputId": "570638ee-b02d-42a9-d184-abf75e995f76"
   },
   "outputs": [
    {
     "name": "stdout",
     "output_type": "stream",
     "text": [
      "Epoch 1/10\n",
      " - 0s - loss: 1.0059\n",
      "Epoch 2/10\n",
      " - 0s - loss: 1.0032\n",
      "Epoch 3/10\n",
      " - 0s - loss: 1.0032\n",
      "Epoch 4/10\n",
      " - 0s - loss: 1.0032\n",
      "Epoch 5/10\n",
      " - 0s - loss: 1.0032\n",
      "Epoch 6/10\n",
      " - 0s - loss: 1.0032\n",
      "Epoch 7/10\n",
      " - 0s - loss: 1.0032\n",
      "Epoch 8/10\n",
      " - 0s - loss: 1.0032\n",
      "Epoch 9/10\n",
      " - 0s - loss: 1.0032\n",
      "Epoch 10/10\n",
      " - 0s - loss: 1.0032\n"
     ]
    },
    {
     "data": {
      "text/plain": [
       "<keras.callbacks.callbacks.History at 0x151396890>"
      ]
     },
     "execution_count": 77,
     "metadata": {},
     "output_type": "execute_result"
    }
   ],
   "source": [
    "model.fit(x_train_scaled, y_train_scaled, epochs=epochs,\n",
    "          batch_size=batch_size, verbose=2)"
   ]
  },
  {
   "cell_type": "code",
   "execution_count": 78,
   "metadata": {
    "colab": {},
    "colab_type": "code",
    "id": "2USNGdNRq3hA",
    "outputId": "23e9232b-0157-4d39-9b20-323f697f25e6"
   },
   "outputs": [
    {
     "name": "stdout",
     "output_type": "stream",
     "text": [
      "0.027620107283524906\n",
      "0.5140845070422535\n"
     ]
    }
   ],
   "source": [
    "y_cv_pred = model.predict(x_cv_scaled)\n",
    "y_cv_pred = train_scaler.inverse_transform(y_cv_pred)\n",
    "print(get_rmse(y_cv, y_cv_pred))\n",
    "print(up_or_down_acc(up_or_down(y_pred),up_or_down(y_true)))"
   ]
  },
  {
   "cell_type": "code",
   "execution_count": 79,
   "metadata": {
    "colab": {},
    "colab_type": "code",
    "id": "lzMup7Elq3hB",
    "outputId": "441a56e4-0f66-4823-b808-8cc3735853f3"
   },
   "outputs": [
    {
     "name": "stdout",
     "output_type": "stream",
     "text": [
      "Epoch 1/10\n",
      " - 0s - loss: 1.0029\n",
      "Epoch 2/10\n",
      " - 0s - loss: 1.0029\n",
      "Epoch 3/10\n",
      " - 0s - loss: 1.0029\n",
      "Epoch 4/10\n",
      " - 0s - loss: 1.0029\n",
      "Epoch 5/10\n",
      " - 0s - loss: 1.0029\n",
      "Epoch 6/10\n",
      " - 0s - loss: 1.0029\n",
      "Epoch 7/10\n",
      " - 0s - loss: 1.0029\n",
      "Epoch 8/10\n",
      " - 0s - loss: 1.0029\n",
      "Epoch 9/10\n",
      " - 0s - loss: 1.0029\n",
      "Epoch 10/10\n",
      " - 0s - loss: 1.0029\n"
     ]
    },
    {
     "data": {
      "text/plain": [
       "<keras.callbacks.callbacks.History at 0x151542e50>"
      ]
     },
     "execution_count": 79,
     "metadata": {},
     "output_type": "execute_result"
    }
   ],
   "source": [
    "model.fit(x_train_cv_scaled, y_train_cv_scaled, epochs=epochs,\n",
    "          batch_size=batch_size, verbose=2)"
   ]
  },
  {
   "cell_type": "code",
   "execution_count": 80,
   "metadata": {
    "colab": {},
    "colab_type": "code",
    "id": "zd53Gq6Iq3hD",
    "outputId": "a094ef8e-ab7e-4cec-b173-beb681f4c6b2"
   },
   "outputs": [
    {
     "name": "stdout",
     "output_type": "stream",
     "text": [
      "0.020847346840091176\n",
      "0.5140845070422535\n"
     ]
    }
   ],
   "source": [
    "y_test_pred = model.predict(x_test_scaled)\n",
    "y_test_pred = train_cv_scaler.inverse_transform(y_test_pred)\n",
    "print(get_rmse(y_test, y_test_pred))\n",
    "print(up_or_down_acc(up_or_down(y_pred),up_or_down(y_true)))"
   ]
  },
  {
   "cell_type": "markdown",
   "metadata": {
    "colab_type": "text",
    "id": "bwmjc3iyq3hF"
   },
   "source": [
    "### 4.3.2 LSTM"
   ]
  },
  {
   "cell_type": "markdown",
   "metadata": {},
   "source": [
    "* Long short-term memory (LSTM) is an artificial recurrent neural network (RNN) architecture.Unlike standard feedforward neural networks, LSTM has feedback connections. "
   ]
  },
  {
   "cell_type": "code",
   "execution_count": 81,
   "metadata": {
    "colab": {},
    "colab_type": "code",
    "id": "1ZBYNJMnq3hF"
   },
   "outputs": [],
   "source": [
    "lstm_units = 50\n",
    "dropout_prob = 0.1\n",
    "optimizer = 'adam'\n",
    "epochs = 10\n",
    "batch_size = 8\n",
    "activation = 'tanh'"
   ]
  },
  {
   "cell_type": "code",
   "execution_count": 82,
   "metadata": {
    "colab": {},
    "colab_type": "code",
    "id": "rNMp5BDeq3hG",
    "outputId": "bc346319-8d96-47e2-e465-c7feabcd6f52"
   },
   "outputs": [
    {
     "name": "stdout",
     "output_type": "stream",
     "text": [
      "Model: \"sequential_2\"\n",
      "_________________________________________________________________\n",
      "Layer (type)                 Output Shape              Param #   \n",
      "=================================================================\n",
      "lstm_1 (LSTM)                (None, 9, 50)             10400     \n",
      "_________________________________________________________________\n",
      "dropout_3 (Dropout)          (None, 9, 50)             0         \n",
      "_________________________________________________________________\n",
      "lstm_2 (LSTM)                (None, 50)                20200     \n",
      "_________________________________________________________________\n",
      "dropout_4 (Dropout)          (None, 50)                0         \n",
      "_________________________________________________________________\n",
      "dense_4 (Dense)              (None, 1)                 51        \n",
      "=================================================================\n",
      "Total params: 30,651\n",
      "Trainable params: 30,651\n",
      "Non-trainable params: 0\n",
      "_________________________________________________________________\n",
      "None\n"
     ]
    }
   ],
   "source": [
    "from keras.layers import LSTM\n",
    "\n",
    "model = Sequential()\n",
    "# The reason return_sequences=True is because we will use a layer of LSTM structure later\n",
    "model.add(LSTM(units=lstm_units, activation=activation, return_sequences=True,\n",
    "               input_shape=x_train_scaled.shape[1:]))\n",
    "model.add(Dropout(dropout_prob))\n",
    "model.add(LSTM(units=lstm_units, activation=activation))\n",
    "model.add(Dropout(dropout_prob))\n",
    "model.add(Dense(1, activation=activation))\n",
    "\n",
    "model.compile(loss='mean_squared_error', optimizer=optimizer)\n",
    "print(model.summary())"
   ]
  },
  {
   "cell_type": "code",
   "execution_count": 83,
   "metadata": {
    "colab": {},
    "colab_type": "code",
    "id": "poAYND9_q3hJ",
    "outputId": "4d4ee367-c86c-4e18-8351-1ae60c73ffdc"
   },
   "outputs": [
    {
     "name": "stdout",
     "output_type": "stream",
     "text": [
      "Epoch 1/10\n",
      " - 2s - loss: 1.0070\n",
      "Epoch 2/10\n",
      " - 1s - loss: 1.0044\n",
      "Epoch 3/10\n",
      " - 1s - loss: 1.0031\n",
      "Epoch 4/10\n",
      " - 1s - loss: 1.0051\n",
      "Epoch 5/10\n",
      " - 1s - loss: 1.0045\n",
      "Epoch 6/10\n",
      " - 1s - loss: 1.0035\n",
      "Epoch 7/10\n",
      " - 1s - loss: 1.0037\n",
      "Epoch 8/10\n",
      " - 1s - loss: 1.0038\n",
      "Epoch 9/10\n",
      " - 1s - loss: 1.0014\n",
      "Epoch 10/10\n",
      " - 1s - loss: 0.9998\n"
     ]
    },
    {
     "data": {
      "text/plain": [
       "<keras.callbacks.callbacks.History at 0x152157b50>"
      ]
     },
     "execution_count": 83,
     "metadata": {},
     "output_type": "execute_result"
    }
   ],
   "source": [
    "model.fit(x_train_scaled, y_train_scaled, epochs=epochs,\n",
    "          batch_size=batch_size, verbose=2)"
   ]
  },
  {
   "cell_type": "code",
   "execution_count": 84,
   "metadata": {
    "colab": {},
    "colab_type": "code",
    "id": "02MgJ8yqq3hM",
    "outputId": "ac82f2e3-ff2e-4ff0-9c56-25a4ec17f525"
   },
   "outputs": [
    {
     "name": "stdout",
     "output_type": "stream",
     "text": [
      "0.027414322799745133\n"
     ]
    }
   ],
   "source": [
    "y_cv_pred = model.predict(x_cv_scaled)\n",
    "y_cv_pred = train_scaler.inverse_transform(y_cv_pred)\n",
    "print(get_rmse(y_cv, y_cv_pred))"
   ]
  },
  {
   "cell_type": "code",
   "execution_count": 85,
   "metadata": {
    "colab": {},
    "colab_type": "code",
    "id": "WN78pD6Tq3hN",
    "outputId": "377a31a4-007c-43c7-bb2c-5d63f6720572"
   },
   "outputs": [
    {
     "name": "stdout",
     "output_type": "stream",
     "text": [
      "Epoch 1/10\n",
      " - 1s - loss: 0.9988\n",
      "Epoch 2/10\n",
      " - 1s - loss: 0.9961\n",
      "Epoch 3/10\n",
      " - 1s - loss: 0.9964\n",
      "Epoch 4/10\n",
      " - 1s - loss: 0.9973\n",
      "Epoch 5/10\n",
      " - 1s - loss: 0.9949\n",
      "Epoch 6/10\n",
      " - 1s - loss: 0.9952\n",
      "Epoch 7/10\n",
      " - 1s - loss: 0.9936\n",
      "Epoch 8/10\n",
      " - 1s - loss: 0.9912\n",
      "Epoch 9/10\n",
      " - 1s - loss: 0.9914\n",
      "Epoch 10/10\n",
      " - 1s - loss: 0.9873\n"
     ]
    },
    {
     "data": {
      "text/plain": [
       "<keras.callbacks.callbacks.History at 0x152020510>"
      ]
     },
     "execution_count": 85,
     "metadata": {},
     "output_type": "execute_result"
    }
   ],
   "source": [
    "model.fit(x_train_cv_scaled, y_train_cv_scaled, epochs=epochs,\n",
    "          batch_size=batch_size, verbose=2)"
   ]
  },
  {
   "cell_type": "code",
   "execution_count": 86,
   "metadata": {
    "colab": {},
    "colab_type": "code",
    "id": "ZvuW-AAkq3hP",
    "outputId": "88aed072-59d8-4549-bb8f-0fe7dc1181a9"
   },
   "outputs": [
    {
     "name": "stdout",
     "output_type": "stream",
     "text": [
      "0.02082072678396068\n",
      "0.5140845070422535\n"
     ]
    }
   ],
   "source": [
    "y_test_pred = model.predict(x_test_scaled)\n",
    "y_test_pred = train_cv_scaler.inverse_transform(y_test_pred)\n",
    "print(get_rmse(y_test, y_test_pred))\n",
    "print(up_or_down_acc(up_or_down(y_pred),up_or_down(y_true)))"
   ]
  },
  {
   "cell_type": "markdown",
   "metadata": {},
   "source": [
    "* In this deep learning part, we use LMP and LSTM to predict the logarithm of the closing price of the next day. We can see that LMP is the best. It's even better than random forest."
   ]
  },
  {
   "cell_type": "markdown",
   "metadata": {
    "colab_type": "text",
    "id": "aR5MgIiJq3hQ"
   },
   "source": [
    "## 5.Predict Up and Down (Classification purely)"
   ]
  },
  {
   "cell_type": "markdown",
   "metadata": {
    "colab_type": "text",
    "id": "F-54BXb4q3hQ"
   },
   "source": [
    "### 5.1 Baseline Model"
   ]
  },
  {
   "cell_type": "code",
   "execution_count": 73,
   "metadata": {},
   "outputs": [],
   "source": [
    "train = lagged_df['2010-01-01':'2017-12-31']\n",
    "cv = lagged_df['2018-01-01': '2018-12-31']\n",
    "train_cv = lagged_df['2010-01-01':'2018-12-31']\n",
    "test = lagged_df['2019-01-01': '2019-12-31']"
   ]
  },
  {
   "cell_type": "code",
   "execution_count": 74,
   "metadata": {},
   "outputs": [],
   "source": [
    "y_train_clf = [1 if i > 0 else 0 for i in train[target_col]]\n",
    "y_cv_clf = [1 if i > 0 else 0 for i in cv[target_col]]\n",
    "y_train_cv_clf = [1 if i > 0 else 0 for i in train_cv[target_col]]\n",
    "y_test_clf = [1 if i > 0 else 0 for i in test[target_col]]"
   ]
  },
  {
   "cell_type": "code",
   "execution_count": 75,
   "metadata": {
    "colab": {},
    "colab_type": "code",
    "id": "9jSDdYU1q3hR"
   },
   "outputs": [],
   "source": [
    "from sklearn.metrics import accuracy_score \n",
    "def get_accuracy(y_true, y_pred):\n",
    "    return accuracy_score(y_true, y_pred)"
   ]
  },
  {
   "cell_type": "code",
   "execution_count": 76,
   "metadata": {
    "colab": {},
    "colab_type": "code",
    "id": "XJ01eg_Eq3hT",
    "outputId": "c4f33316-49a2-4be2-cf6d-c050019b7c74"
   },
   "outputs": [
    {
     "name": "stdout",
     "output_type": "stream",
     "text": [
      "Always up:  0.4997269251774986\n",
      "Always down:  0.5002730748225014\n"
     ]
    }
   ],
   "source": [
    "print('Always up: ', sum(y_train_cv_clf) / len(y_train_cv_clf))\n",
    "print('Always down: ', 1 - sum(y_train_cv_clf) / len(y_train_cv_clf))"
   ]
  },
  {
   "cell_type": "markdown",
   "metadata": {},
   "source": [
    "* We use always down as our baseline model."
   ]
  },
  {
   "cell_type": "markdown",
   "metadata": {
    "colab_type": "text",
    "id": "wJJgaK1Kq3hW"
   },
   "source": [
    "### 5.2 KNN"
   ]
  },
  {
   "cell_type": "code",
   "execution_count": 77,
   "metadata": {
    "colab": {},
    "colab_type": "code",
    "id": "Tq1bNt-_q3hW"
   },
   "outputs": [],
   "source": [
    "from sklearn.neighbors import KNeighborsClassifier"
   ]
  },
  {
   "cell_type": "code",
   "execution_count": 78,
   "metadata": {
    "colab": {},
    "colab_type": "code",
    "id": "GEy-OyzLq3hX",
    "outputId": "df35ac4d-0453-4592-d6f6-f3e7fdda6b53"
   },
   "outputs": [
    {
     "name": "stdout",
     "output_type": "stream",
     "text": [
      "Number of neighbors:  2\n",
      "0.5140845070422535\n",
      "Number of neighbors:  5\n",
      "0.5422535211267606\n",
      "Number of neighbors:  8\n",
      "0.5\n",
      "Number of neighbors:  9\n",
      "0.5211267605633803\n",
      "Number of neighbors:  10\n",
      "0.5070422535211268\n",
      "Number of neighbors:  12\n",
      "0.5070422535211268\n",
      "Number of neighbors:  13\n",
      "0.5140845070422535\n",
      "Number of neighbors:  14\n",
      "0.5070422535211268\n",
      "Number of neighbors:  15\n",
      "0.5140845070422535\n",
      "Number of neighbors:  16\n",
      "0.5070422535211268\n",
      "Number of neighbors:  17\n",
      "0.5070422535211268\n",
      "Number of neighbors:  18\n",
      "0.5\n",
      "Number of neighbors:  19\n",
      "0.5\n",
      "Number of neighbors:  20\n",
      "0.5\n"
     ]
    }
   ],
   "source": [
    "n_neighbors_list = [2, 5, 8,9,10,12, 13,14,15,16,17,18,19,20]\n",
    "cv_rmse_list = []\n",
    "for n_neighbors in n_neighbors_list:\n",
    "    print('Number of neighbors: ', n_neighbors)\n",
    "    model = KNeighborsClassifier(n_neighbors)\n",
    "    model.fit(train_scaled, y_train_clf)\n",
    "    y_pred_clf = model.predict(cv_scaled)\n",
    "    print(get_accuracy(y_cv_clf, y_pred_clf))\n",
    "    \n"
   ]
  },
  {
   "cell_type": "code",
   "execution_count": 79,
   "metadata": {
    "colab": {},
    "colab_type": "code",
    "id": "l88Ly2A8q3hY",
    "outputId": "cc49807a-1baa-4f88-83fd-68a105fdeaad"
   },
   "outputs": [
    {
     "name": "stdout",
     "output_type": "stream",
     "text": [
      "Results of knn classifier prediction\n",
      "Accuracy: 0.521127\n"
     ]
    }
   ],
   "source": [
    "model = KNeighborsClassifier(n_neighbors=5)\n",
    "model.fit(train_cv_scaled, y_train_cv_clf) \n",
    "y_pred_clf = model.predict(test_scaled) \n",
    "knn_accu = get_accuracy(y_test_clf, y_pred_clf)\n",
    "print('Results of knn classifier prediction')\n",
    "print('Accuracy: %f' % knn_accu)"
   ]
  },
  {
   "cell_type": "markdown",
   "metadata": {
    "colab_type": "text",
    "id": "__ohXrX8q3ha"
   },
   "source": [
    "### 5.3 SVM"
   ]
  },
  {
   "cell_type": "markdown",
   "metadata": {},
   "source": [
    "* In machine learning, support-vector machines (SVMs, also support-vector networks[1]) are supervised learning models with associated learning algorithms that analyze data used for classification and regression analysis. "
   ]
  },
  {
   "cell_type": "code",
   "execution_count": 81,
   "metadata": {},
   "outputs": [
    {
     "name": "stdout",
     "output_type": "stream",
     "text": [
      "C:  1\n",
      "0.5\n",
      "C:  2\n",
      "0.5\n",
      "C:  5\n",
      "0.5\n",
      "C:  10\n",
      "0.5\n",
      "C:  11\n",
      "0.5\n",
      "C:  12\n",
      "0.5\n",
      "C:  13\n",
      "0.5\n",
      "C:  14\n",
      "0.5\n",
      "C:  15\n",
      "0.5\n"
     ]
    }
   ],
   "source": [
    "from sklearn.svm import SVC\n",
    "c_list = [1, 2, 5, 10,11,12,13,14,15]\n",
    "cv_rmse_list = []\n",
    "for c in c_list:\n",
    "    print('C: ', c)\n",
    "    model = SVC(c, random_state=0)\n",
    "    model.fit(train_scaled, y_train_clf)\n",
    "    y_pred_clf = model.predict(cv_scaled)\n",
    "    print(get_accuracy(y_cv_clf, y_pred_clf))"
   ]
  },
  {
   "cell_type": "code",
   "execution_count": 82,
   "metadata": {
    "colab": {},
    "colab_type": "code",
    "id": "lqmhaaUNq3hb",
    "outputId": "86e44fdf-9620-4780-fcbe-9ee596c70aaa"
   },
   "outputs": [
    {
     "name": "stdout",
     "output_type": "stream",
     "text": [
      "Results of svc classifier prediction\n",
      "Accuracy: 0.563380\n"
     ]
    }
   ],
   "source": [
    "model = SVC(C=1, random_state=0)\n",
    "model.fit(train_cv_scaled, y_train_cv_clf)\n",
    "y_pred_clf = model.predict(test_scaled)\n",
    "svc_accu = get_accuracy(y_test_clf, y_pred_clf)\n",
    "print('Results of svc classifier prediction')\n",
    "print('Accuracy: %f' % svc_accu)"
   ]
  },
  {
   "cell_type": "markdown",
   "metadata": {
    "colab_type": "text",
    "id": "BzZ2prrGq3hd"
   },
   "source": [
    "## 6. Analysis Evaluation and Trade Simulation"
   ]
  },
  {
   "cell_type": "markdown",
   "metadata": {
    "colab_type": "text",
    "id": "eo0dBVxSq3hd"
   },
   "source": [
    "### 6.1 Function to Proceed with"
   ]
  },
  {
   "cell_type": "markdown",
   "metadata": {
    "colab_type": "text",
    "id": "yFTpo2kTq3hd"
   },
   "source": [
    "### Winrate Calculation"
   ]
  },
  {
   "cell_type": "markdown",
   "metadata": {},
   "source": [
    "* A win is when the direction of the trading signal (+1 or -1) is consistant with the direction of the closing price from Day 2 to Day 3."
   ]
  },
  {
   "cell_type": "code",
   "execution_count": 96,
   "metadata": {
    "colab": {},
    "colab_type": "code",
    "id": "QQTrYY2Yq3hd"
   },
   "outputs": [],
   "source": [
    "def cal_winrate(df, signal_col, ret_col):\n",
    "    win = df.loc[(df[signal_col] * df[ret_col]) > 0, 'log_ret']\n",
    "    loss = -df.loc[(df[signal_col] * df[ret_col]) < 0, 'log_ret']\n",
    "    total = len(win) + len(loss)\n",
    "    winrate = len(win)/total\n",
    "    return winrate, win, loss"
   ]
  },
  {
   "cell_type": "markdown",
   "metadata": {
    "colab_type": "text",
    "id": "RgkqBhyIq3he"
   },
   "source": [
    "### Trade Simulation"
   ]
  },
  {
   "cell_type": "markdown",
   "metadata": {},
   "source": [
    "* We designed a simple simulation to evaluate different trading signals. The initial cash is $200,000 and we're just going to trade 100 shares, whether we're going to buy or sell and regardless of the transaction fee. At the beginning, we only had cash. When there was an opportunity to build a position, which means the time when the price rose for two days in a row and the trading signal did not show selling, we need to open an account to hold the stock. Sell 100 shares when yesterday's trading signal indicates selling and the number of shares held is more than 0; When yesterday's trading signal shows buying and hold enough cash, buy 100 shares at the day's closing price.\n"
   ]
  },
  {
   "cell_type": "markdown",
   "metadata": {},
   "source": [
    "* We will evaluate the changes in the assets corresponding to the different trading strategies, which is the sum of the cash and the value of the stocks that we own. And then we're going to evaluate the return on the asset, which is the asset at the end of the evaluation period versus the $200,000 that we started with, whether we made a profit or a loss; We will also look at the lowest retracement rate, which is the total assets lost over hardest time."
   ]
  },
  {
   "cell_type": "code",
   "execution_count": 97,
   "metadata": {
    "colab": {},
    "colab_type": "code",
    "id": "E5STL4VGq3hf"
   },
   "outputs": [],
   "source": [
    "def trade_sim(df, signal_col, close_col):\n",
    "    signal = df[signal_col]\n",
    "    close = df[close_col]\n",
    "    cash = pd.Series(0.0, index=df.index)\n",
    "    asset = pd.Series(0.0, index=df.index)\n",
    "    share = pd.Series(0.0, index=df.index)\n",
    "    trade_signal = signal.shift(1)\n",
    "    trade_unit = 100\n",
    "    entry = 3\n",
    "    cash[:entry] = 200000\n",
    "    while entry < len(close):\n",
    "        cash[entry] = cash[entry-1]\n",
    "        if close[entry-1] >= close[entry-2] and close[entry-2] >= close[entry-3] and signal[entry-1] != -1:\n",
    "            share[entry] = trade_unit\n",
    "            cash[entry] = cash[entry] - trade_unit * close[entry]\n",
    "            break\n",
    "        entry += 1\n",
    "    i = entry + 1\n",
    "    while i < len(trade_signal):\n",
    "        cash[i] = cash[i - 1]\n",
    "        share[i] = share[i - 1]\n",
    "        if trade_signal[i] == 1:\n",
    "            if cash[i] >= trade_unit * close[i]:\n",
    "                share[i] = share[i] + trade_unit\n",
    "                cash[i] = cash[i] - trade_unit * close[i]\n",
    "        if trade_signal[i] == -1:\n",
    "            if share[i] >= trade_unit:\n",
    "                share[i] = share[i] - trade_unit\n",
    "                cash[i] = cash[i] + trade_unit * close[i]\n",
    "        i+=1\n",
    "    asset = cash + share * close \n",
    "    return cash, share, asset"
   ]
  },
  {
   "cell_type": "markdown",
   "metadata": {
    "colab_type": "text",
    "id": "fFLIDWREq3hg"
   },
   "source": [
    "### Max Drawdown and Asset Return Ratio"
   ]
  },
  {
   "cell_type": "code",
   "execution_count": 98,
   "metadata": {
    "colab": {},
    "colab_type": "code",
    "id": "gBuBcNH0q3hg"
   },
   "outputs": [],
   "source": [
    "#calculate max_drawdown\n",
    "def max_drawdown_slow(X):\n",
    "    drawdown_max=0\n",
    "    for i in range(len(X)):\n",
    "        for j in range(i, len(X)):\n",
    "            drawdown=(X[i] - X[j])/X[i]\n",
    "            drawdown_max=max(drawdown_max, drawdown) \n",
    "    return drawdown_max * 100\n",
    "\n",
    "def max_drawdown(X):\n",
    "    i = np.argmax((np.maximum.accumulate(X) - X)/np.maximum.accumulate(X)) # end of the period \n",
    "    j = np.argmax(X[:i]) # start of period \n",
    "    return (1-X[i]/X[j]) * 100\n",
    "\n",
    "#calculate asset return ratio\n",
    "def asset_evaluate(asset):\n",
    "    ret_ratio = (asset[-1] - 200000) / 200000 * 100 \n",
    "    maxdd = max_drawdown(asset) \n",
    "    return maxdd, ret_ratio"
   ]
  },
  {
   "cell_type": "markdown",
   "metadata": {
    "colab_type": "text",
    "id": "rc2zi97Nq3hh"
   },
   "source": [
    "### 6.2 Trade Signal based on Momentum"
   ]
  },
  {
   "cell_type": "markdown",
   "metadata": {},
   "source": [
    "* Momentum effect refers to that when the stock price rises, it may have the momentum to continue to rise. When a stock price falls, it may have momentum to fall further.\n",
    "* The basic idea of designing trading signals based on momentum indicators is as follows: when momentum is positive on the 35th day, there may still be rising energy in the market. We recommend that the second phase can conduct buying. When the momentum is negative on the 35th day, we expect that the price may fall in the future, and the 2nd phase can be operated as selling."
   ]
  },
  {
   "cell_type": "code",
   "execution_count": 99,
   "metadata": {
    "colab": {},
    "colab_type": "code",
    "id": "sD-15qwoq3hh"
   },
   "outputs": [],
   "source": [
    "def momentum_signal(df, timeperiod=35):\n",
    "    df['mom35'] = talib.MOM(df['Close'], timeperiod=timeperiod)\n",
    "    df.fillna(0, inplace=True)\n",
    "    df['mom_signal'] = 0 \n",
    "    #if the momentum for 35 days is greater than 0 ,output signal as 1 for buying\n",
    "    df.loc[df['mom35'] > 0, 'mom_signal'] = 1\n",
    "    #if the momentum for 35 days is less than 0 ,output signal as -1 for buying\n",
    "    df.loc[df['mom35'] < 0, 'mom_signal'] = -1\n",
    "    return df\n",
    "\n",
    "df = momentum_signal(df)"
   ]
  },
  {
   "cell_type": "code",
   "execution_count": 100,
   "metadata": {
    "colab": {},
    "colab_type": "code",
    "id": "_W_LVr5Jq3hi",
    "outputId": "915fa64c-e5fc-4d3a-9da0-9b443ab1f9db"
   },
   "outputs": [
    {
     "data": {
      "image/png": "[encoded data removed]",
      "text/plain": [
       "<Figure size 432x288 with 1 Axes>"
      ]
     },
     "metadata": {
      "needs_background": "light"
     },
     "output_type": "display_data"
    }
   ],
   "source": [
    "df[['mom35']].plot();"
   ]
  },
  {
   "cell_type": "code",
   "execution_count": 101,
   "metadata": {
    "colab": {},
    "colab_type": "code",
    "id": "JYvoJFYOq3hj",
    "outputId": "cebee1d7-d94b-432d-befa-b94ca36ba72c"
   },
   "outputs": [
    {
     "name": "stdout",
     "output_type": "stream",
     "text": [
      "(1338, 23)\n",
      "(604, 23)\n"
     ]
    }
   ],
   "source": [
    "#summary the signals for buy and sell\n",
    "print(df.loc[df['mom_signal'] == 1, :].shape)\n",
    "print(df.loc[df['mom_signal'] == -1, :].shape)"
   ]
  },
  {
   "cell_type": "code",
   "execution_count": 102,
   "metadata": {
    "colab": {},
    "colab_type": "code",
    "id": "7ATqiRh9q3hm",
    "outputId": "fae65309-4088-4fe5-c547-800a6a18c6e2"
   },
   "outputs": [
    {
     "name": "stdout",
     "output_type": "stream",
     "text": [
      "0.49432404540763675\n"
     ]
    }
   ],
   "source": [
    "winrate_netflix, win_netflix, loss_netflix = cal_winrate(df, 'mom_signal', 'log_ret')\n",
    "print(winrate_netflix)"
   ]
  },
  {
   "cell_type": "code",
   "execution_count": 103,
   "metadata": {
    "colab": {},
    "colab_type": "code",
    "id": "PG0QTjK1q3hn"
   },
   "outputs": [],
   "source": [
    "#evaluate asset changes based on momentum signal\n",
    "cash_netflix_mom, share_netflix_mom, asset_netflix_mom = trade_sim(df, 'mom_signal', 'Close')"
   ]
  },
  {
   "cell_type": "code",
   "execution_count": 104,
   "metadata": {
    "colab": {},
    "colab_type": "code",
    "id": "6brhUkOSq3hp",
    "outputId": "ae803b41-ace4-4410-f148-19fe70caf724"
   },
   "outputs": [
    {
     "data": {
      "image/png": "[encoded data removed]",
      "text/plain": [
       "<Figure size 432x288 with 1 Axes>"
      ]
     },
     "metadata": {
      "needs_background": "light"
     },
     "output_type": "display_data"
    }
   ],
   "source": [
    "asset_netflix_mom.plot(title='asset');"
   ]
  },
  {
   "cell_type": "markdown",
   "metadata": {},
   "source": [
    "* The winning rate is 0.5. However, assets fluctuate greatly, but the assets increase a lot. There are no big gains or losses on assets."
   ]
  },
  {
   "cell_type": "markdown",
   "metadata": {
    "colab_type": "text",
    "id": "DR86xLEEq3hr"
   },
   "source": [
    "### 6.3 Trade signal based on RSI signal"
   ]
  },
  {
   "cell_type": "markdown",
   "metadata": {},
   "source": [
    "* For the relative strength index (RSI), when the short-term RSI line crosses the long-term RSI line upward, the recent buying signal of stocks is strong, and the impetus for price rise is strong, which releases a strong buying signal. It is known as \"golden cross\". However, when the short-term RSI line drops below the long-term RSI line, the recent selling force of stocks is strong, and the price decline trend is strong, which releases a strong sell signal. It is known as \"death cross\".\n",
    "* The basic idea of trading signal design based on relative strength index is as follows: \n",
    "* Calculate the values of RSI6 and RSI24; \n",
    "* When RSI6>80 or RSI6 goes down through RSI24, it is a sell signal. \n",
    "* When RSI6 < 20 or upward through the RSI24 RSI6, it is a buy signal."
   ]
  },
  {
   "cell_type": "code",
   "execution_count": 105,
   "metadata": {
    "colab": {},
    "colab_type": "code",
    "id": "KfJnMMy2q3hr"
   },
   "outputs": [],
   "source": [
    "def rsi_signal(df, timeperiod_short=6, timeperiod_long=24):\n",
    "    # The default calculations are rsi6 and rsi24\n",
    "    df['rsi6'] = talib.RSI(df['Close'], timeperiod=timeperiod_short)\n",
    "    df['rsi24'] = talib.RSI(df['Close'], timeperiod=timeperiod_long)\n",
    "    df.fillna(0, inplace=True)\n",
    "    df['rsi_signal'] = 0\n",
    "    # RSI6<20：buy\n",
    "    df.loc[df['rsi6'] < 20, 'rsi_signal'] = 1\n",
    "    # RSI6>80: sell\n",
    "    df.loc[df['rsi6'] > 80, 'rsi_signal'] = -1\n",
    "\n",
    "    # Get rsi6 and rsi24 from 1 day ago\n",
    "    df['lagrsi6'] = df['rsi6'].shift(1)\n",
    "    df['lagrsi24'] = df['rsi24'].shift(1)\n",
    "    # rsi6 up cross rsi24, gold cross, buy\n",
    "    df.loc[(df['rsi6'] > df['rsi24']) & (df['lagrsi6'] < df['lagrsi24']), 'rsi_signal'] = 1\n",
    "    # rsi6 down cross rsi24，death cross，sell\n",
    "    df.loc[(df['rsi6'] < df['rsi24']) & (df['lagrsi6'] > df['lagrsi24']), 'rsi_signal'] = -1\n",
    "    # we don't need lagrsi6， lagrsi24 anymore\n",
    "    df = df.drop(columns=['lagrsi6', 'lagrsi24'])\n",
    "    return df\n",
    "\n",
    "df_netflix = rsi_signal(df)"
   ]
  },
  {
   "cell_type": "code",
   "execution_count": 106,
   "metadata": {
    "colab": {},
    "colab_type": "code",
    "id": "48z96PO9q3hs",
    "outputId": "c9a454aa-e1a7-4541-b559-5e365f79b48e"
   },
   "outputs": [
    {
     "data": {
      "text/plain": [
       "<matplotlib.axes._subplots.AxesSubplot at 0x152435c90>"
      ]
     },
     "execution_count": 106,
     "metadata": {},
     "output_type": "execute_result"
    },
    {
     "data": {
      "image/png": "[encoded data removed]",
      "text/plain": [
       "<Figure size 432x288 with 1 Axes>"
      ]
     },
     "metadata": {
      "needs_background": "light"
     },
     "output_type": "display_data"
    }
   ],
   "source": [
    "df_netflix.tail(25)[['rsi6', 'rsi24']].plot()"
   ]
  },
  {
   "cell_type": "code",
   "execution_count": 107,
   "metadata": {
    "colab": {},
    "colab_type": "code",
    "id": "LzGL6oi6q3ht",
    "outputId": "dad0b8d6-7827-4938-9d2d-c013c7260868"
   },
   "outputs": [
    {
     "name": "stdout",
     "output_type": "stream",
     "text": [
      "(250, 26)\n",
      "(403, 26)\n"
     ]
    }
   ],
   "source": [
    "print(df_netflix.loc[df_netflix['rsi_signal'] == 1, :].shape)\n",
    "print(df_netflix.loc[df_netflix['rsi_signal'] == -1, :].shape)"
   ]
  },
  {
   "cell_type": "code",
   "execution_count": 108,
   "metadata": {
    "colab": {},
    "colab_type": "code",
    "id": "FFoW-hgWq3hu",
    "outputId": "aec5ff43-f6b2-4bba-c50d-9fd60c618eba"
   },
   "outputs": [
    {
     "name": "stdout",
     "output_type": "stream",
     "text": [
      "0.5414110429447853\n"
     ]
    }
   ],
   "source": [
    "winrate_netflix, win_netflix, loss_netflix = cal_winrate(df_netflix, 'rsi_signal', 'log_ret')\n",
    "print(winrate_netflix)"
   ]
  },
  {
   "cell_type": "code",
   "execution_count": 109,
   "metadata": {
    "colab": {},
    "colab_type": "code",
    "id": "S4grSy_wq3hv"
   },
   "outputs": [],
   "source": [
    "cash_netflix_rsi, share_netflix_rsi, asset_netflix_rsi = trade_sim(df_netflix, 'rsi_signal', 'Close')"
   ]
  },
  {
   "cell_type": "code",
   "execution_count": 110,
   "metadata": {
    "colab": {},
    "colab_type": "code",
    "id": "2JdZbKsUq3hw",
    "outputId": "3b24daed-78d8-49c8-bda5-d13171fd7f6a"
   },
   "outputs": [
    {
     "data": {
      "image/png": "[encoded data removed]",
      "text/plain": [
       "<Figure size 432x288 with 1 Axes>"
      ]
     },
     "metadata": {
      "needs_background": "light"
     },
     "output_type": "display_data"
    }
   ],
   "source": [
    "asset_netflix_rsi.plot(title='asset');"
   ]
  },
  {
   "cell_type": "markdown",
   "metadata": {},
   "source": [
    "* The winning rate is 0.47, less than it in trade based on momentum signal. However, the general trend of assets is increasing."
   ]
  },
  {
   "cell_type": "markdown",
   "metadata": {
    "colab_type": "text",
    "id": "EQrNaUPoq3hy"
   },
   "source": [
    "### 6.4 Trade Signal Based on Candlestick Chart"
   ]
  },
  {
   "cell_type": "markdown",
   "metadata": {},
   "source": [
    "* The basic idea of Double Moving Average Crossover is to identify the change of price trend by using the relative relationship of long and short moving average. \n",
    "* The basic ideas of trading signal design are as follows: \n",
    "* Find the short - term average and long - term average; \n",
    "* When a short-term moving average crosses a long-term moving average from the bottom up, it releases a buy signal; \n",
    "* When a short - term moving average crosses a long - term moving average from the top down, it releases a sell - off signal."
   ]
  },
  {
   "cell_type": "code",
   "execution_count": 111,
   "metadata": {
    "colab": {},
    "colab_type": "code",
    "id": "NvGvTxWHq3hy"
   },
   "outputs": [],
   "source": [
    "def ma_signal(df, timeperiod_short=5, timeperiod_long=30):\n",
    "    # Ma5 and ma30 are computed by default\n",
    "    df['ma5'] = talib.MA(df['Close'], timeperiod=timeperiod_short)\n",
    "    df['ma30'] = talib.MA(df['Close'], timeperiod=timeperiod_long)\n",
    "    df.fillna(0, inplace=True)\n",
    "    df['ma_signal'] = 0\n",
    "\n",
    "    # Get ma5 and ma30 from 1 day ago\n",
    "    df['lagma5'] = df['ma5'].shift(1)\n",
    "    df['lagma30'] = df['ma30'].shift(1)\n",
    "    # Ma5 up through ma30, buy\n",
    "    df.loc[(df['ma5'] > df['ma30']) & (df['lagma5'] < df['lagma30']), 'ma_signal'] = 1\n",
    "    # Ma5 goes down to ma30 , sells\n",
    "    df.loc[(df['ma5'] < df['ma30']) & (df['lagma5'] > df['lagma30']), 'ma_signal'] = -1\n",
    "    # We don't need lagma5,lagma30 anymore\n",
    "    df = df.drop(columns=['lagma5', 'lagma30'])\n",
    "    return df\n",
    "\n",
    "df_netflix = ma_signal(df)"
   ]
  },
  {
   "cell_type": "code",
   "execution_count": 112,
   "metadata": {
    "colab": {},
    "colab_type": "code",
    "id": "V2OfubY7q3h0",
    "outputId": "a01962f9-a844-421b-99bc-1d3d9aa4ea73"
   },
   "outputs": [
    {
     "name": "stdout",
     "output_type": "stream",
     "text": [
      "(38, 31)\n",
      "(38, 31)\n"
     ]
    }
   ],
   "source": [
    "print(df_netflix.loc[df_netflix['ma_signal'] == 1, :].shape)\n",
    "print(df_netflix.loc[df_netflix['ma_signal'] == -1, :].shape)"
   ]
  },
  {
   "cell_type": "code",
   "execution_count": 113,
   "metadata": {
    "colab": {},
    "colab_type": "code",
    "id": "cdqVVIWmq3h1",
    "outputId": "d122ad1e-3c02-41cf-cdd2-1f5b193b65a2"
   },
   "outputs": [
    {
     "name": "stdout",
     "output_type": "stream",
     "text": [
      "0.5526315789473685\n"
     ]
    }
   ],
   "source": [
    "winrate_netflix, win_netflix, loss_netflix = cal_winrate(df, 'ma_signal', 'log_ret')\n",
    "print(winrate_netflix)"
   ]
  },
  {
   "cell_type": "code",
   "execution_count": 114,
   "metadata": {
    "colab": {},
    "colab_type": "code",
    "id": "Bhu7CIWPq3h2"
   },
   "outputs": [],
   "source": [
    "cash_netflix_ma, share_netflix_ma, asset_netflix_ma = trade_sim(df_netflix, 'ma_signal', 'Close')"
   ]
  },
  {
   "cell_type": "code",
   "execution_count": 115,
   "metadata": {
    "colab": {},
    "colab_type": "code",
    "id": "r3kKvONhq3h3",
    "outputId": "d72d0279-eae2-4a70-dcaf-3d4a1cfaceac"
   },
   "outputs": [
    {
     "data": {
      "text/plain": [
       "<matplotlib.axes._subplots.AxesSubplot at 0x152500350>"
      ]
     },
     "execution_count": 115,
     "metadata": {},
     "output_type": "execute_result"
    },
    {
     "data": {
      "image/png": "[encoded data removed]",
      "text/plain": [
       "<Figure size 432x288 with 1 Axes>"
      ]
     },
     "metadata": {
      "needs_background": "light"
     },
     "output_type": "display_data"
    }
   ],
   "source": [
    "asset_netflix_ma.plot(title='asset')"
   ]
  },
  {
   "cell_type": "markdown",
   "metadata": {},
   "source": [
    "* The winning rate is 0.52, but the assets rise and fall without big changes."
   ]
  },
  {
   "cell_type": "markdown",
   "metadata": {
    "colab_type": "text",
    "id": "9SxJ2vfJq3h4"
   },
   "source": [
    "### 6.5 Trade Signal  Based on Bollinger Bands"
   ]
  },
  {
   "cell_type": "markdown",
   "metadata": {},
   "source": [
    "* The most common strategy of bollinger bands is to make a trading strategy by breaking the upper and lower bounds according to the price line. \n",
    "* The basic idea of designing trading signals is as follows:\n",
    "* When the stock price goes up through the band, the stock may have an abnormal rise, and the stock price will fall into the band in the future. We should go short.\n",
    "* When the stock price goes down through the band, the stock may have an abnormal decline, the future price will rise to the inside of the band. We should go long."
   ]
  },
  {
   "cell_type": "code",
   "execution_count": 116,
   "metadata": {
    "colab": {},
    "colab_type": "code",
    "id": "saHbiw2uq3h4"
   },
   "outputs": [],
   "source": [
    "def bollinger_signal(df):\n",
    "    # use \n",
    "    df['upperband'], df['middleband'], df['lowerband'] = talib.BBANDS(df['Close'], nbdevup=1, nbdevdn=1, timeperiod=5)\n",
    "    df.fillna(0, inplace=True)\n",
    "    df['bollinger_signal'] = 0\n",
    "    #get the previous day's close data, upperband and lowerband\n",
    "    df['lagclose'] = df['Close'].shift(1)\n",
    "    df['lagupperband'] = df['upperband'].shift(1)\n",
    "    df['laglowerband'] = df['lowerband'].shift(1)\n",
    "    # close is lower than the lowerband，output the signal as buy\n",
    "    df.loc[(df['Close'] < df['lowerband']) & (df['lagclose'] > df['laglowerband']), 'bollinger_signal'] = 1\n",
    "    # close is higher than the lowerband，output the signal as sell\n",
    "    df.loc[(df['Close'] > df['upperband']) & (df['lagclose'] < df['lagupperband']), 'bollinger_signal'] = -1\n",
    "    df = df.drop(columns=['lagclose', 'lagupperband', 'laglowerband'])\n",
    "    return df\n",
    "\n",
    "df_netflix= bollinger_signal(df)"
   ]
  },
  {
   "cell_type": "code",
   "execution_count": 117,
   "metadata": {
    "colab": {},
    "colab_type": "code",
    "id": "u-LindxNq3h6",
    "outputId": "0bf36dcb-02de-4516-c10e-f8ac17461c43"
   },
   "outputs": [
    {
     "name": "stdout",
     "output_type": "stream",
     "text": [
      "(225, 37)\n",
      "(288, 37)\n"
     ]
    }
   ],
   "source": [
    "print(df_netflix.loc[df_netflix['bollinger_signal'] == 1, :].shape)\n",
    "print(df_netflix.loc[df_netflix['bollinger_signal'] == -1, :].shape)"
   ]
  },
  {
   "cell_type": "code",
   "execution_count": 118,
   "metadata": {
    "colab": {},
    "colab_type": "code",
    "id": "1giEN62Aq3h8",
    "outputId": "13d5a51e-6b50-4329-e398-956f653b0346"
   },
   "outputs": [
    {
     "name": "stdout",
     "output_type": "stream",
     "text": [
      "0.5165692007797271\n"
     ]
    }
   ],
   "source": [
    "winrate_netflix, win_netflix, loss_netflix = cal_winrate(df_netflix, 'bollinger_signal', 'log_ret')\n",
    "print(winrate_netflix)"
   ]
  },
  {
   "cell_type": "code",
   "execution_count": 119,
   "metadata": {
    "colab": {},
    "colab_type": "code",
    "id": "TphHybRwq3h9"
   },
   "outputs": [],
   "source": [
    "cash_netflix_bollinger, share_netflix_bollinger, asset_netflix_bollinger = trade_sim(df_netflix, 'bollinger_signal', 'Close')\n"
   ]
  },
  {
   "cell_type": "code",
   "execution_count": 120,
   "metadata": {
    "colab": {},
    "colab_type": "code",
    "id": "ivC-ae1oq3h-",
    "outputId": "f9108846-897a-409f-e613-882e50711243"
   },
   "outputs": [
    {
     "data": {
      "image/png": "[encoded data removed]",
      "text/plain": [
       "<Figure size 432x288 with 1 Axes>"
      ]
     },
     "metadata": {
      "needs_background": "light"
     },
     "output_type": "display_data"
    }
   ],
   "source": [
    "asset_netflix_bollinger.plot(title='asset');"
   ]
  },
  {
   "cell_type": "markdown",
   "metadata": {},
   "source": [
    "* The winning rate is 0.51. The assets are increasing. The increasing pace is slower than it in in trade based on RSI signal."
   ]
  },
  {
   "cell_type": "markdown",
   "metadata": {
    "colab_type": "text",
    "id": "rkPFJGDmtHGS"
   },
   "source": [
    "### 6.6 Trade Signals Comparison"
   ]
  },
  {
   "cell_type": "code",
   "execution_count": 121,
   "metadata": {
    "colab": {},
    "colab_type": "code",
    "id": "Wxgw_GTPq3h_",
    "outputId": "fd9d422b-fcfd-420a-9b8a-76aeb8f9ba28"
   },
   "outputs": [
    {
     "name": "stdout",
     "output_type": "stream",
     "text": [
      "               maxdd   ret_ratio\n",
      "mom        63.741117  828.915567\n",
      "rsi        13.199292   41.433718\n",
      "ma          5.504906   11.719072\n",
      "bollinger  12.579066   41.871429\n"
     ]
    }
   ],
   "source": [
    "#evaluate the Max Drawdown and Return Ratio \n",
    "asset_result = {}\n",
    "mom_maxdd, mom_ret_ratio = asset_evaluate(asset_netflix_mom)\n",
    "rsi_maxdd, rsi_ret_ratio = asset_evaluate(asset_netflix_rsi)\n",
    "ma_maxdd, ma_ret_ratio = asset_evaluate(asset_netflix_ma)\n",
    "bollinger_maxdd, bollinger_ret_ratio = asset_evaluate(asset_netflix_bollinger)\n",
    "\n",
    "asset_result = {'maxdd': [mom_maxdd, rsi_maxdd, ma_maxdd, bollinger_maxdd], 'ret_ratio': [mom_ret_ratio, rsi_ret_ratio, ma_ret_ratio, bollinger_ret_ratio]} \n",
    "asset_result_df = pd.DataFrame(asset_result, index=['mom', 'rsi', 'ma', 'bollinger'])\n",
    "print(asset_result_df)"
   ]
  },
  {
   "cell_type": "markdown",
   "metadata": {},
   "source": [
    "* If you are a investor with low risk tolerance, trading strategy based on RSI signals is best for you. Trading stategy based on RSI signals performed best on our historical data from Pfizer, achieving the relatively high return (10.18%) on a relatively small drawdown(3.12%).\n",
    "* If you are a investor with high risk tolerance, trading strategy based on momentum signals are best for you. Trading stategies based on momentum signals performed best on our historical data from Pfizer, achieving the highest return (49.74%) on a relatively high drawdown(22.31%)."
   ]
  },
  {
   "cell_type": "code",
   "execution_count": null,
   "metadata": {},
   "outputs": [],
   "source": []
  }
 ],
 "metadata": {
  "colab": {
   "collapsed_sections": [
    "-HmqWSKuq3eV",
    "E90eoe0-q3es",
    "nJURLGLpq3fI",
    "8u-5asFWq3fK",
    "TJbefwj-q3fN",
    "srKkpybJq3fg",
    "fcQCVTyaq3fl",
    "Cz-5Cz00q3fr",
    "SNKRBvf7q3fu",
    "j2QoxQpKq3f4",
    "j8v7JDDKq3f-",
    "9jca7l12q3gI",
    "Yg8PBPi9q3gS",
    "kO_C_2F6q3gS",
    "M7zVIR91q3ga",
    "UKmKN979q3gf",
    "zm3Q4Ra4q3gr",
    "KaEQ9_9wq3gw",
    "a0kxJ9Ldq3g4",
    "bwmjc3iyq3hF",
    "F-54BXb4q3hQ",
    "wJJgaK1Kq3hW",
    "__ohXrX8q3ha",
    "eo0dBVxSq3hd",
    "yFTpo2kTq3hd",
    "RgkqBhyIq3he",
    "fFLIDWREq3hg",
    "rc2zi97Nq3hh",
    "DR86xLEEq3hr",
    "EQrNaUPoq3hy",
    "9SxJ2vfJq3h4",
    "rkPFJGDmtHGS"
   ],
   "name": "Copy of VVVDDPP-Stock Analysis and Prediction.ipynb",
   "provenance": []
  },
  "kernelspec": {
   "display_name": "Python 3",
   "language": "python",
   "name": "python3"
  },
  "language_info": {
   "codemirror_mode": {
    "name": "ipython",
    "version": 3
   },
   "file_extension": ".py",
   "mimetype": "text/x-python",
   "name": "python",
   "nbconvert_exporter": "python",
   "pygments_lexer": "ipython3",
   "version": "3.7.4"
  }
 },
 "nbformat": 4,
 "nbformat_minor": 4
}
